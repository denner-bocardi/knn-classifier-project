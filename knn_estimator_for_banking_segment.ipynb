{
  "nbformat": 4,
  "nbformat_minor": 0,
  "metadata": {
    "colab": {
      "provenance": []
    },
    "kernelspec": {
      "name": "python3",
      "display_name": "Python 3"
    },
    "language_info": {
      "name": "python"
    }
  },
  "cells": [
    {
      "cell_type": "markdown",
      "source": [
        "# KNN Estimator for Banking Segment "
      ],
      "metadata": {
        "id": "hf5i4S90j3xy"
      }
    },
    {
      "cell_type": "markdown",
      "source": [
        "On the mostly of the banks the clients are segmented in categories. This classification is made by looking into a amount of demographic data. We need to develop a model to, given the demographic data of one client, the model should determinate what segment this client is more fit in."
      ],
      "metadata": {
        "id": "4KRLz8hwkEk2"
      }
    },
    {
      "cell_type": "markdown",
      "source": [
        "# The dataset\n"
      ],
      "metadata": {
        "id": "ilNqReV0qYk9"
      }
    },
    {
      "cell_type": "markdown",
      "source": [
        "This dataset is from Kaggle. We can access here on this [link](https://www.kaggle.com/datasets/thedevastator/predicting-credit-card-customer-attrition-with-m)\n",
        "\n",
        "\n",
        "\n"
      ],
      "metadata": {
        "id": "iYHsGMr2q2mT"
      }
    },
    {
      "cell_type": "markdown",
      "source": [
        "# Importing libreries and the dataset"
      ],
      "metadata": {
        "id": "LeJjC_3NreMP"
      }
    },
    {
      "cell_type": "code",
      "source": [
        "import pandas as pd\n",
        "import numpy as np\n",
        "import matplotlib.pyplot as plt\n",
        "import seaborn as sns\n",
        "\n",
        "dataset = pd.read_csv('/home/dataset/BankChurners.csv')\n",
        "dataset.head()"
      ],
      "metadata": {
        "colab": {
          "base_uri": "https://localhost:8080/",
          "height": 386
        },
        "id": "ZGWBtnKhkBId",
        "outputId": "04ff1e90-ac54-4c67-e01b-ae629766feed"
      },
      "execution_count": null,
      "outputs": [
        {
          "output_type": "execute_result",
          "data": {
            "text/plain": [
              "   CLIENTNUM     Attrition_Flag  Customer_Age Gender  Dependent_count  \\\n",
              "0  768805383  Existing Customer            45      M                3   \n",
              "1  818770008  Existing Customer            49      F                5   \n",
              "2  713982108  Existing Customer            51      M                3   \n",
              "3  769911858  Existing Customer            40      F                4   \n",
              "4  709106358  Existing Customer            40      M                3   \n",
              "\n",
              "  Education_Level Marital_Status Income_Category Card_Category  \\\n",
              "0     High School        Married     $60K - $80K          Blue   \n",
              "1        Graduate         Single  Less than $40K          Blue   \n",
              "2        Graduate        Married    $80K - $120K          Blue   \n",
              "3     High School        Unknown  Less than $40K          Blue   \n",
              "4      Uneducated        Married     $60K - $80K          Blue   \n",
              "\n",
              "   Months_on_book  ...  Credit_Limit  Total_Revolving_Bal  Avg_Open_To_Buy  \\\n",
              "0              39  ...       12691.0                  777          11914.0   \n",
              "1              44  ...        8256.0                  864           7392.0   \n",
              "2              36  ...        3418.0                    0           3418.0   \n",
              "3              34  ...        3313.0                 2517            796.0   \n",
              "4              21  ...        4716.0                    0           4716.0   \n",
              "\n",
              "   Total_Amt_Chng_Q4_Q1  Total_Trans_Amt  Total_Trans_Ct  Total_Ct_Chng_Q4_Q1  \\\n",
              "0                 1.335             1144              42                1.625   \n",
              "1                 1.541             1291              33                3.714   \n",
              "2                 2.594             1887              20                2.333   \n",
              "3                 1.405             1171              20                2.333   \n",
              "4                 2.175              816              28                2.500   \n",
              "\n",
              "   Avg_Utilization_Ratio  \\\n",
              "0                  0.061   \n",
              "1                  0.105   \n",
              "2                  0.000   \n",
              "3                  0.760   \n",
              "4                  0.000   \n",
              "\n",
              "   Naive_Bayes_Classifier_Attrition_Flag_Card_Category_Contacts_Count_12_mon_Dependent_count_Education_Level_Months_Inactive_12_mon_1  \\\n",
              "0                                           0.000093                                                                                    \n",
              "1                                           0.000057                                                                                    \n",
              "2                                           0.000021                                                                                    \n",
              "3                                           0.000134                                                                                    \n",
              "4                                           0.000022                                                                                    \n",
              "\n",
              "   Naive_Bayes_Classifier_Attrition_Flag_Card_Category_Contacts_Count_12_mon_Dependent_count_Education_Level_Months_Inactive_12_mon_2  \n",
              "0                                            0.99991                                                                                   \n",
              "1                                            0.99994                                                                                   \n",
              "2                                            0.99998                                                                                   \n",
              "3                                            0.99987                                                                                   \n",
              "4                                            0.99998                                                                                   \n",
              "\n",
              "[5 rows x 23 columns]"
            ],
            "text/html": [
              "\n",
              "  <div id=\"df-0061a775-ba92-4af9-b95e-2604abc1dde8\">\n",
              "    <div class=\"colab-df-container\">\n",
              "      <div>\n",
              "<style scoped>\n",
              "    .dataframe tbody tr th:only-of-type {\n",
              "        vertical-align: middle;\n",
              "    }\n",
              "\n",
              "    .dataframe tbody tr th {\n",
              "        vertical-align: top;\n",
              "    }\n",
              "\n",
              "    .dataframe thead th {\n",
              "        text-align: right;\n",
              "    }\n",
              "</style>\n",
              "<table border=\"1\" class=\"dataframe\">\n",
              "  <thead>\n",
              "    <tr style=\"text-align: right;\">\n",
              "      <th></th>\n",
              "      <th>CLIENTNUM</th>\n",
              "      <th>Attrition_Flag</th>\n",
              "      <th>Customer_Age</th>\n",
              "      <th>Gender</th>\n",
              "      <th>Dependent_count</th>\n",
              "      <th>Education_Level</th>\n",
              "      <th>Marital_Status</th>\n",
              "      <th>Income_Category</th>\n",
              "      <th>Card_Category</th>\n",
              "      <th>Months_on_book</th>\n",
              "      <th>...</th>\n",
              "      <th>Credit_Limit</th>\n",
              "      <th>Total_Revolving_Bal</th>\n",
              "      <th>Avg_Open_To_Buy</th>\n",
              "      <th>Total_Amt_Chng_Q4_Q1</th>\n",
              "      <th>Total_Trans_Amt</th>\n",
              "      <th>Total_Trans_Ct</th>\n",
              "      <th>Total_Ct_Chng_Q4_Q1</th>\n",
              "      <th>Avg_Utilization_Ratio</th>\n",
              "      <th>Naive_Bayes_Classifier_Attrition_Flag_Card_Category_Contacts_Count_12_mon_Dependent_count_Education_Level_Months_Inactive_12_mon_1</th>\n",
              "      <th>Naive_Bayes_Classifier_Attrition_Flag_Card_Category_Contacts_Count_12_mon_Dependent_count_Education_Level_Months_Inactive_12_mon_2</th>\n",
              "    </tr>\n",
              "  </thead>\n",
              "  <tbody>\n",
              "    <tr>\n",
              "      <th>0</th>\n",
              "      <td>768805383</td>\n",
              "      <td>Existing Customer</td>\n",
              "      <td>45</td>\n",
              "      <td>M</td>\n",
              "      <td>3</td>\n",
              "      <td>High School</td>\n",
              "      <td>Married</td>\n",
              "      <td>$60K - $80K</td>\n",
              "      <td>Blue</td>\n",
              "      <td>39</td>\n",
              "      <td>...</td>\n",
              "      <td>12691.0</td>\n",
              "      <td>777</td>\n",
              "      <td>11914.0</td>\n",
              "      <td>1.335</td>\n",
              "      <td>1144</td>\n",
              "      <td>42</td>\n",
              "      <td>1.625</td>\n",
              "      <td>0.061</td>\n",
              "      <td>0.000093</td>\n",
              "      <td>0.99991</td>\n",
              "    </tr>\n",
              "    <tr>\n",
              "      <th>1</th>\n",
              "      <td>818770008</td>\n",
              "      <td>Existing Customer</td>\n",
              "      <td>49</td>\n",
              "      <td>F</td>\n",
              "      <td>5</td>\n",
              "      <td>Graduate</td>\n",
              "      <td>Single</td>\n",
              "      <td>Less than $40K</td>\n",
              "      <td>Blue</td>\n",
              "      <td>44</td>\n",
              "      <td>...</td>\n",
              "      <td>8256.0</td>\n",
              "      <td>864</td>\n",
              "      <td>7392.0</td>\n",
              "      <td>1.541</td>\n",
              "      <td>1291</td>\n",
              "      <td>33</td>\n",
              "      <td>3.714</td>\n",
              "      <td>0.105</td>\n",
              "      <td>0.000057</td>\n",
              "      <td>0.99994</td>\n",
              "    </tr>\n",
              "    <tr>\n",
              "      <th>2</th>\n",
              "      <td>713982108</td>\n",
              "      <td>Existing Customer</td>\n",
              "      <td>51</td>\n",
              "      <td>M</td>\n",
              "      <td>3</td>\n",
              "      <td>Graduate</td>\n",
              "      <td>Married</td>\n",
              "      <td>$80K - $120K</td>\n",
              "      <td>Blue</td>\n",
              "      <td>36</td>\n",
              "      <td>...</td>\n",
              "      <td>3418.0</td>\n",
              "      <td>0</td>\n",
              "      <td>3418.0</td>\n",
              "      <td>2.594</td>\n",
              "      <td>1887</td>\n",
              "      <td>20</td>\n",
              "      <td>2.333</td>\n",
              "      <td>0.000</td>\n",
              "      <td>0.000021</td>\n",
              "      <td>0.99998</td>\n",
              "    </tr>\n",
              "    <tr>\n",
              "      <th>3</th>\n",
              "      <td>769911858</td>\n",
              "      <td>Existing Customer</td>\n",
              "      <td>40</td>\n",
              "      <td>F</td>\n",
              "      <td>4</td>\n",
              "      <td>High School</td>\n",
              "      <td>Unknown</td>\n",
              "      <td>Less than $40K</td>\n",
              "      <td>Blue</td>\n",
              "      <td>34</td>\n",
              "      <td>...</td>\n",
              "      <td>3313.0</td>\n",
              "      <td>2517</td>\n",
              "      <td>796.0</td>\n",
              "      <td>1.405</td>\n",
              "      <td>1171</td>\n",
              "      <td>20</td>\n",
              "      <td>2.333</td>\n",
              "      <td>0.760</td>\n",
              "      <td>0.000134</td>\n",
              "      <td>0.99987</td>\n",
              "    </tr>\n",
              "    <tr>\n",
              "      <th>4</th>\n",
              "      <td>709106358</td>\n",
              "      <td>Existing Customer</td>\n",
              "      <td>40</td>\n",
              "      <td>M</td>\n",
              "      <td>3</td>\n",
              "      <td>Uneducated</td>\n",
              "      <td>Married</td>\n",
              "      <td>$60K - $80K</td>\n",
              "      <td>Blue</td>\n",
              "      <td>21</td>\n",
              "      <td>...</td>\n",
              "      <td>4716.0</td>\n",
              "      <td>0</td>\n",
              "      <td>4716.0</td>\n",
              "      <td>2.175</td>\n",
              "      <td>816</td>\n",
              "      <td>28</td>\n",
              "      <td>2.500</td>\n",
              "      <td>0.000</td>\n",
              "      <td>0.000022</td>\n",
              "      <td>0.99998</td>\n",
              "    </tr>\n",
              "  </tbody>\n",
              "</table>\n",
              "<p>5 rows × 23 columns</p>\n",
              "</div>\n",
              "      <button class=\"colab-df-convert\" onclick=\"convertToInteractive('df-0061a775-ba92-4af9-b95e-2604abc1dde8')\"\n",
              "              title=\"Convert this dataframe to an interactive table.\"\n",
              "              style=\"display:none;\">\n",
              "        \n",
              "  <svg xmlns=\"http://www.w3.org/2000/svg\" height=\"24px\"viewBox=\"0 0 24 24\"\n",
              "       width=\"24px\">\n",
              "    <path d=\"M0 0h24v24H0V0z\" fill=\"none\"/>\n",
              "    <path d=\"M18.56 5.44l.94 2.06.94-2.06 2.06-.94-2.06-.94-.94-2.06-.94 2.06-2.06.94zm-11 1L8.5 8.5l.94-2.06 2.06-.94-2.06-.94L8.5 2.5l-.94 2.06-2.06.94zm10 10l.94 2.06.94-2.06 2.06-.94-2.06-.94-.94-2.06-.94 2.06-2.06.94z\"/><path d=\"M17.41 7.96l-1.37-1.37c-.4-.4-.92-.59-1.43-.59-.52 0-1.04.2-1.43.59L10.3 9.45l-7.72 7.72c-.78.78-.78 2.05 0 2.83L4 21.41c.39.39.9.59 1.41.59.51 0 1.02-.2 1.41-.59l7.78-7.78 2.81-2.81c.8-.78.8-2.07 0-2.86zM5.41 20L4 18.59l7.72-7.72 1.47 1.35L5.41 20z\"/>\n",
              "  </svg>\n",
              "      </button>\n",
              "      \n",
              "  <style>\n",
              "    .colab-df-container {\n",
              "      display:flex;\n",
              "      flex-wrap:wrap;\n",
              "      gap: 12px;\n",
              "    }\n",
              "\n",
              "    .colab-df-convert {\n",
              "      background-color: #E8F0FE;\n",
              "      border: none;\n",
              "      border-radius: 50%;\n",
              "      cursor: pointer;\n",
              "      display: none;\n",
              "      fill: #1967D2;\n",
              "      height: 32px;\n",
              "      padding: 0 0 0 0;\n",
              "      width: 32px;\n",
              "    }\n",
              "\n",
              "    .colab-df-convert:hover {\n",
              "      background-color: #E2EBFA;\n",
              "      box-shadow: 0px 1px 2px rgba(60, 64, 67, 0.3), 0px 1px 3px 1px rgba(60, 64, 67, 0.15);\n",
              "      fill: #174EA6;\n",
              "    }\n",
              "\n",
              "    [theme=dark] .colab-df-convert {\n",
              "      background-color: #3B4455;\n",
              "      fill: #D2E3FC;\n",
              "    }\n",
              "\n",
              "    [theme=dark] .colab-df-convert:hover {\n",
              "      background-color: #434B5C;\n",
              "      box-shadow: 0px 1px 3px 1px rgba(0, 0, 0, 0.15);\n",
              "      filter: drop-shadow(0px 1px 2px rgba(0, 0, 0, 0.3));\n",
              "      fill: #FFFFFF;\n",
              "    }\n",
              "  </style>\n",
              "\n",
              "      <script>\n",
              "        const buttonEl =\n",
              "          document.querySelector('#df-0061a775-ba92-4af9-b95e-2604abc1dde8 button.colab-df-convert');\n",
              "        buttonEl.style.display =\n",
              "          google.colab.kernel.accessAllowed ? 'block' : 'none';\n",
              "\n",
              "        async function convertToInteractive(key) {\n",
              "          const element = document.querySelector('#df-0061a775-ba92-4af9-b95e-2604abc1dde8');\n",
              "          const dataTable =\n",
              "            await google.colab.kernel.invokeFunction('convertToInteractive',\n",
              "                                                     [key], {});\n",
              "          if (!dataTable) return;\n",
              "\n",
              "          const docLinkHtml = 'Like what you see? Visit the ' +\n",
              "            '<a target=\"_blank\" href=https://colab.research.google.com/notebooks/data_table.ipynb>data table notebook</a>'\n",
              "            + ' to learn more about interactive tables.';\n",
              "          element.innerHTML = '';\n",
              "          dataTable['output_type'] = 'display_data';\n",
              "          await google.colab.output.renderOutput(dataTable, element);\n",
              "          const docLink = document.createElement('div');\n",
              "          docLink.innerHTML = docLinkHtml;\n",
              "          element.appendChild(docLink);\n",
              "        }\n",
              "      </script>\n",
              "    </div>\n",
              "  </div>\n",
              "  "
            ]
          },
          "metadata": {},
          "execution_count": 48
        }
      ]
    },
    {
      "cell_type": "markdown",
      "source": [
        "On the dataset page on Kaggle we have a description of all the columns on the data set. As you can see here:\n",
        "\n",
        "1. **CLIENTNUM:** Unique identifier for each customer. (Integer)\n",
        "2. **Attrition_Flag:**\tFlag indicating whether or not the customer has churned out. (Boolean)\n",
        "3. **Customer_Age:**\tAge of customer. (Integer)\n",
        "4. **Gender:**\tGender of customer. (String)\n",
        "5. **Dependent_count:**\tNumber of dependents that customer has. (Integer)\n",
        "6. **Education_Level:**\tEducation level of customer. (String)\n",
        "7. **Marital_Status:**\tMarital status of customer. (String)\n",
        "8. **Income_Category:**\tIncome category of customer. (String)\n",
        "9. **Card_Category:**\tType of card held by customer. (String)\n",
        "10. **Months_on_book:**\tHow long customer has been on the books. (Integer)\n",
        "11. **Total_Relationship_Count:**\tTotal number of relationships customer has with the credit card provider. (Integer)\n",
        "12. **Months_Inactive_12_mon:**\tNumber of months customer has been inactive in the last twelve months. (Integer)\n",
        "13. **Contacts_Count_12_mon:**\tNumber of contacts customer has had in the last twelve months. (Integer)\n",
        "14. **Credit_Limit:**\tCredit limit of customer. (Integer)\n",
        "15. **Total_Revolving_Bal:**\tTotal revolving balance of customer. (Integer)\n",
        "16. **Avg_Open_To_Buy:**\tAverage open to buy ratio of customer. (Integer)\n",
        "17. **Total_Amt_Chng_Q4_Q1:**\tTotal amount changed from quarter 4 to quarter 1. (Integer)\n",
        "18. **Total_Trans_Amt:**\tTotal transaction amount. (Integer)\n",
        "19. **Total_Trans_Ct:**\tTotal transaction count. (Integer)\n",
        "20. **Total_Ct_Chng_Q4_Q1:**\tTotal count changed from quarter 4 to quarter 1. (Integer)\n",
        "21. **Avg_Utilization_Ratio:**\tAverage utilization ratio of customer. (Integer)\n",
        "22.Naive_Bayes_Classifier_Attrition_Flag_Card_Category_Contacts_Count_12_mon_Dependent_count_Education_Level_Months_Inactive_12_mon_1:\tNaive Bayes classifier for predicting whether or not someone will churn based on characteristics such"
      ],
      "metadata": {
        "id": "etrj18C8waLX"
      }
    },
    {
      "cell_type": "markdown",
      "source": [
        "Initially, I want to padronize the name of the columns and drop the columns we are not using on this analysis.  "
      ],
      "metadata": {
        "id": "d0PhbI8KsESw"
      }
    },
    {
      "cell_type": "code",
      "source": [
        "maping = {\n",
        "    'CLIENTNUM': 'Customer_Id',\n",
        "    'Gender': 'Customer_Gender',\n",
        "    'Dependent_count': 'Dependent_Count',\n",
        "    'Month_on_book': 'Monht_on_Book',\n",
        "}\n",
        "\n",
        "columns_to_drop = ['Naive_Bayes_Classifier_Attrition_Flag_Card_Category_Contacts_Count_12_mon_Dependent_count_Education_Level_Months_Inactive_12_mon_1',\n",
        "                   'Naive_Bayes_Classifier_Attrition_Flag_Card_Category_Contacts_Count_12_mon_Dependent_count_Education_Level_Months_Inactive_12_mon_2',\n",
        "                   'Total_Amt_Chng_Q4_Q1', \n",
        "                   'Total_Ct_Chng_Q4_Q1'\n",
        "                   ]\n",
        "\n",
        "\n",
        "dataset.rename(columns = maping, inplace = True)\n",
        "dataset.drop(columns = columns_to_drop, inplace = True)\n",
        "dataset.head()"
      ],
      "metadata": {
        "colab": {
          "base_uri": "https://localhost:8080/",
          "height": 357
        },
        "id": "BpCDjeEbtKh4",
        "outputId": "ed650214-cf84-4645-f44d-dc572303e5c9"
      },
      "execution_count": null,
      "outputs": [
        {
          "output_type": "execute_result",
          "data": {
            "text/plain": [
              "   Customer_Id     Attrition_Flag  Customer_Age Customer_Gender  \\\n",
              "0    768805383  Existing Customer            45               M   \n",
              "1    818770008  Existing Customer            49               F   \n",
              "2    713982108  Existing Customer            51               M   \n",
              "3    769911858  Existing Customer            40               F   \n",
              "4    709106358  Existing Customer            40               M   \n",
              "\n",
              "   Dependent_Count Education_Level Marital_Status Income_Category  \\\n",
              "0                3     High School        Married     $60K - $80K   \n",
              "1                5        Graduate         Single  Less than $40K   \n",
              "2                3        Graduate        Married    $80K - $120K   \n",
              "3                4     High School        Unknown  Less than $40K   \n",
              "4                3      Uneducated        Married     $60K - $80K   \n",
              "\n",
              "  Card_Category  Months_on_book  Total_Relationship_Count  \\\n",
              "0          Blue              39                         5   \n",
              "1          Blue              44                         6   \n",
              "2          Blue              36                         4   \n",
              "3          Blue              34                         3   \n",
              "4          Blue              21                         5   \n",
              "\n",
              "   Months_Inactive_12_mon  Contacts_Count_12_mon  Credit_Limit  \\\n",
              "0                       1                      3       12691.0   \n",
              "1                       1                      2        8256.0   \n",
              "2                       1                      0        3418.0   \n",
              "3                       4                      1        3313.0   \n",
              "4                       1                      0        4716.0   \n",
              "\n",
              "   Total_Revolving_Bal  Avg_Open_To_Buy  Total_Trans_Amt  Total_Trans_Ct  \\\n",
              "0                  777          11914.0             1144              42   \n",
              "1                  864           7392.0             1291              33   \n",
              "2                    0           3418.0             1887              20   \n",
              "3                 2517            796.0             1171              20   \n",
              "4                    0           4716.0              816              28   \n",
              "\n",
              "   Avg_Utilization_Ratio  \n",
              "0                  0.061  \n",
              "1                  0.105  \n",
              "2                  0.000  \n",
              "3                  0.760  \n",
              "4                  0.000  "
            ],
            "text/html": [
              "\n",
              "  <div id=\"df-44854596-42dd-49a7-b8a0-40d57dea9eb9\">\n",
              "    <div class=\"colab-df-container\">\n",
              "      <div>\n",
              "<style scoped>\n",
              "    .dataframe tbody tr th:only-of-type {\n",
              "        vertical-align: middle;\n",
              "    }\n",
              "\n",
              "    .dataframe tbody tr th {\n",
              "        vertical-align: top;\n",
              "    }\n",
              "\n",
              "    .dataframe thead th {\n",
              "        text-align: right;\n",
              "    }\n",
              "</style>\n",
              "<table border=\"1\" class=\"dataframe\">\n",
              "  <thead>\n",
              "    <tr style=\"text-align: right;\">\n",
              "      <th></th>\n",
              "      <th>Customer_Id</th>\n",
              "      <th>Attrition_Flag</th>\n",
              "      <th>Customer_Age</th>\n",
              "      <th>Customer_Gender</th>\n",
              "      <th>Dependent_Count</th>\n",
              "      <th>Education_Level</th>\n",
              "      <th>Marital_Status</th>\n",
              "      <th>Income_Category</th>\n",
              "      <th>Card_Category</th>\n",
              "      <th>Months_on_book</th>\n",
              "      <th>Total_Relationship_Count</th>\n",
              "      <th>Months_Inactive_12_mon</th>\n",
              "      <th>Contacts_Count_12_mon</th>\n",
              "      <th>Credit_Limit</th>\n",
              "      <th>Total_Revolving_Bal</th>\n",
              "      <th>Avg_Open_To_Buy</th>\n",
              "      <th>Total_Trans_Amt</th>\n",
              "      <th>Total_Trans_Ct</th>\n",
              "      <th>Avg_Utilization_Ratio</th>\n",
              "    </tr>\n",
              "  </thead>\n",
              "  <tbody>\n",
              "    <tr>\n",
              "      <th>0</th>\n",
              "      <td>768805383</td>\n",
              "      <td>Existing Customer</td>\n",
              "      <td>45</td>\n",
              "      <td>M</td>\n",
              "      <td>3</td>\n",
              "      <td>High School</td>\n",
              "      <td>Married</td>\n",
              "      <td>$60K - $80K</td>\n",
              "      <td>Blue</td>\n",
              "      <td>39</td>\n",
              "      <td>5</td>\n",
              "      <td>1</td>\n",
              "      <td>3</td>\n",
              "      <td>12691.0</td>\n",
              "      <td>777</td>\n",
              "      <td>11914.0</td>\n",
              "      <td>1144</td>\n",
              "      <td>42</td>\n",
              "      <td>0.061</td>\n",
              "    </tr>\n",
              "    <tr>\n",
              "      <th>1</th>\n",
              "      <td>818770008</td>\n",
              "      <td>Existing Customer</td>\n",
              "      <td>49</td>\n",
              "      <td>F</td>\n",
              "      <td>5</td>\n",
              "      <td>Graduate</td>\n",
              "      <td>Single</td>\n",
              "      <td>Less than $40K</td>\n",
              "      <td>Blue</td>\n",
              "      <td>44</td>\n",
              "      <td>6</td>\n",
              "      <td>1</td>\n",
              "      <td>2</td>\n",
              "      <td>8256.0</td>\n",
              "      <td>864</td>\n",
              "      <td>7392.0</td>\n",
              "      <td>1291</td>\n",
              "      <td>33</td>\n",
              "      <td>0.105</td>\n",
              "    </tr>\n",
              "    <tr>\n",
              "      <th>2</th>\n",
              "      <td>713982108</td>\n",
              "      <td>Existing Customer</td>\n",
              "      <td>51</td>\n",
              "      <td>M</td>\n",
              "      <td>3</td>\n",
              "      <td>Graduate</td>\n",
              "      <td>Married</td>\n",
              "      <td>$80K - $120K</td>\n",
              "      <td>Blue</td>\n",
              "      <td>36</td>\n",
              "      <td>4</td>\n",
              "      <td>1</td>\n",
              "      <td>0</td>\n",
              "      <td>3418.0</td>\n",
              "      <td>0</td>\n",
              "      <td>3418.0</td>\n",
              "      <td>1887</td>\n",
              "      <td>20</td>\n",
              "      <td>0.000</td>\n",
              "    </tr>\n",
              "    <tr>\n",
              "      <th>3</th>\n",
              "      <td>769911858</td>\n",
              "      <td>Existing Customer</td>\n",
              "      <td>40</td>\n",
              "      <td>F</td>\n",
              "      <td>4</td>\n",
              "      <td>High School</td>\n",
              "      <td>Unknown</td>\n",
              "      <td>Less than $40K</td>\n",
              "      <td>Blue</td>\n",
              "      <td>34</td>\n",
              "      <td>3</td>\n",
              "      <td>4</td>\n",
              "      <td>1</td>\n",
              "      <td>3313.0</td>\n",
              "      <td>2517</td>\n",
              "      <td>796.0</td>\n",
              "      <td>1171</td>\n",
              "      <td>20</td>\n",
              "      <td>0.760</td>\n",
              "    </tr>\n",
              "    <tr>\n",
              "      <th>4</th>\n",
              "      <td>709106358</td>\n",
              "      <td>Existing Customer</td>\n",
              "      <td>40</td>\n",
              "      <td>M</td>\n",
              "      <td>3</td>\n",
              "      <td>Uneducated</td>\n",
              "      <td>Married</td>\n",
              "      <td>$60K - $80K</td>\n",
              "      <td>Blue</td>\n",
              "      <td>21</td>\n",
              "      <td>5</td>\n",
              "      <td>1</td>\n",
              "      <td>0</td>\n",
              "      <td>4716.0</td>\n",
              "      <td>0</td>\n",
              "      <td>4716.0</td>\n",
              "      <td>816</td>\n",
              "      <td>28</td>\n",
              "      <td>0.000</td>\n",
              "    </tr>\n",
              "  </tbody>\n",
              "</table>\n",
              "</div>\n",
              "      <button class=\"colab-df-convert\" onclick=\"convertToInteractive('df-44854596-42dd-49a7-b8a0-40d57dea9eb9')\"\n",
              "              title=\"Convert this dataframe to an interactive table.\"\n",
              "              style=\"display:none;\">\n",
              "        \n",
              "  <svg xmlns=\"http://www.w3.org/2000/svg\" height=\"24px\"viewBox=\"0 0 24 24\"\n",
              "       width=\"24px\">\n",
              "    <path d=\"M0 0h24v24H0V0z\" fill=\"none\"/>\n",
              "    <path d=\"M18.56 5.44l.94 2.06.94-2.06 2.06-.94-2.06-.94-.94-2.06-.94 2.06-2.06.94zm-11 1L8.5 8.5l.94-2.06 2.06-.94-2.06-.94L8.5 2.5l-.94 2.06-2.06.94zm10 10l.94 2.06.94-2.06 2.06-.94-2.06-.94-.94-2.06-.94 2.06-2.06.94z\"/><path d=\"M17.41 7.96l-1.37-1.37c-.4-.4-.92-.59-1.43-.59-.52 0-1.04.2-1.43.59L10.3 9.45l-7.72 7.72c-.78.78-.78 2.05 0 2.83L4 21.41c.39.39.9.59 1.41.59.51 0 1.02-.2 1.41-.59l7.78-7.78 2.81-2.81c.8-.78.8-2.07 0-2.86zM5.41 20L4 18.59l7.72-7.72 1.47 1.35L5.41 20z\"/>\n",
              "  </svg>\n",
              "      </button>\n",
              "      \n",
              "  <style>\n",
              "    .colab-df-container {\n",
              "      display:flex;\n",
              "      flex-wrap:wrap;\n",
              "      gap: 12px;\n",
              "    }\n",
              "\n",
              "    .colab-df-convert {\n",
              "      background-color: #E8F0FE;\n",
              "      border: none;\n",
              "      border-radius: 50%;\n",
              "      cursor: pointer;\n",
              "      display: none;\n",
              "      fill: #1967D2;\n",
              "      height: 32px;\n",
              "      padding: 0 0 0 0;\n",
              "      width: 32px;\n",
              "    }\n",
              "\n",
              "    .colab-df-convert:hover {\n",
              "      background-color: #E2EBFA;\n",
              "      box-shadow: 0px 1px 2px rgba(60, 64, 67, 0.3), 0px 1px 3px 1px rgba(60, 64, 67, 0.15);\n",
              "      fill: #174EA6;\n",
              "    }\n",
              "\n",
              "    [theme=dark] .colab-df-convert {\n",
              "      background-color: #3B4455;\n",
              "      fill: #D2E3FC;\n",
              "    }\n",
              "\n",
              "    [theme=dark] .colab-df-convert:hover {\n",
              "      background-color: #434B5C;\n",
              "      box-shadow: 0px 1px 3px 1px rgba(0, 0, 0, 0.15);\n",
              "      filter: drop-shadow(0px 1px 2px rgba(0, 0, 0, 0.3));\n",
              "      fill: #FFFFFF;\n",
              "    }\n",
              "  </style>\n",
              "\n",
              "      <script>\n",
              "        const buttonEl =\n",
              "          document.querySelector('#df-44854596-42dd-49a7-b8a0-40d57dea9eb9 button.colab-df-convert');\n",
              "        buttonEl.style.display =\n",
              "          google.colab.kernel.accessAllowed ? 'block' : 'none';\n",
              "\n",
              "        async function convertToInteractive(key) {\n",
              "          const element = document.querySelector('#df-44854596-42dd-49a7-b8a0-40d57dea9eb9');\n",
              "          const dataTable =\n",
              "            await google.colab.kernel.invokeFunction('convertToInteractive',\n",
              "                                                     [key], {});\n",
              "          if (!dataTable) return;\n",
              "\n",
              "          const docLinkHtml = 'Like what you see? Visit the ' +\n",
              "            '<a target=\"_blank\" href=https://colab.research.google.com/notebooks/data_table.ipynb>data table notebook</a>'\n",
              "            + ' to learn more about interactive tables.';\n",
              "          element.innerHTML = '';\n",
              "          dataTable['output_type'] = 'display_data';\n",
              "          await google.colab.output.renderOutput(dataTable, element);\n",
              "          const docLink = document.createElement('div');\n",
              "          docLink.innerHTML = docLinkHtml;\n",
              "          element.appendChild(docLink);\n",
              "        }\n",
              "      </script>\n",
              "    </div>\n",
              "  </div>\n",
              "  "
            ]
          },
          "metadata": {},
          "execution_count": 49
        }
      ]
    },
    {
      "cell_type": "markdown",
      "source": [
        "# Exploring the dataset"
      ],
      "metadata": {
        "id": "a4iHUtiVENzG"
      }
    },
    {
      "cell_type": "markdown",
      "source": [
        "Now we have padronized the name of the columns e droped out the columns we don't want to use, we will take a deeper look into the variables we have to work. Mainly the 'Card_Category', with is our target variable"
      ],
      "metadata": {
        "id": "f9ZRIPsUERMp"
      }
    },
    {
      "cell_type": "markdown",
      "source": [
        "There is a lot of interesting things to look on all the variables here. But we will foccus on looking for\n",
        "\n",
        "1. Cleanig the dataset\n",
        "2. Try to understand how the other categories are distributed by card segment"
      ],
      "metadata": {
        "id": "ZyNdmA38EuW7"
      }
    },
    {
      "cell_type": "markdown",
      "source": [
        "## Card Segment"
      ],
      "metadata": {
        "id": "QHP3s9hJFO1z"
      }
    },
    {
      "cell_type": "markdown",
      "source": [
        "As the Card Segment is our target, we start by having a deeper look into this variable. We will first describe this feature."
      ],
      "metadata": {
        "id": "Qzh6jEADFUci"
      }
    },
    {
      "cell_type": "code",
      "source": [
        "dataset['Card_Category'].describe()"
      ],
      "metadata": {
        "id": "gxedstfPAo8w",
        "colab": {
          "base_uri": "https://localhost:8080/"
        },
        "outputId": "16ed2a04-b5c0-4376-abaa-55de3d48690e"
      },
      "execution_count": null,
      "outputs": [
        {
          "output_type": "execute_result",
          "data": {
            "text/plain": [
              "count     10127\n",
              "unique        4\n",
              "top        Blue\n",
              "freq       9436\n",
              "Name: Card_Category, dtype: object"
            ]
          },
          "metadata": {},
          "execution_count": 50
        }
      ]
    },
    {
      "cell_type": "code",
      "source": [
        "dataset['Card_Category'].value_counts()\n"
      ],
      "metadata": {
        "colab": {
          "base_uri": "https://localhost:8080/"
        },
        "id": "f1ZPzeWRdTwG",
        "outputId": "ac145dea-0ce6-4960-d36f-5b309b08b744"
      },
      "execution_count": null,
      "outputs": [
        {
          "output_type": "execute_result",
          "data": {
            "text/plain": [
              "Blue        9436\n",
              "Silver       555\n",
              "Gold         116\n",
              "Platinum      20\n",
              "Name: Card_Category, dtype: int64"
            ]
          },
          "metadata": {},
          "execution_count": 51
        }
      ]
    },
    {
      "cell_type": "code",
      "source": [
        "sns.histplot(data = dataset, x = 'Card_Category', hue = 'Card_Category')"
      ],
      "metadata": {
        "colab": {
          "base_uri": "https://localhost:8080/",
          "height": 297
        },
        "id": "-BGPBz_2hLIT",
        "outputId": "f0ef983e-0b7c-4f05-cbce-05e98daa085c"
      },
      "execution_count": null,
      "outputs": [
        {
          "output_type": "execute_result",
          "data": {
            "text/plain": [
              "<matplotlib.axes._subplots.AxesSubplot at 0x7f4832c10be0>"
            ]
          },
          "metadata": {},
          "execution_count": 52
        },
        {
          "output_type": "display_data",
          "data": {
            "text/plain": [
              "<Figure size 432x288 with 1 Axes>"
            ],
            "image/png": "[encoded data removed]"
          },
          "metadata": {
            "needs_background": "light"
          }
        }
      ]
    },
    {
      "cell_type": "markdown",
      "source": [
        "As we can see we have 4 categories: Blue, Silver, Gold, Platinum<br>\n",
        "We can assume that the Blue category is the lest demanding category, and the Platinum is the most demanding. "
      ],
      "metadata": {
        "id": "g6PaGImUfdaG"
      }
    },
    {
      "cell_type": "markdown",
      "source": [
        "## Age"
      ],
      "metadata": {
        "id": "WRgdD50FoI6x"
      }
    },
    {
      "cell_type": "code",
      "source": [
        "sns.histplot(data = dataset, x = 'Customer_Age', kde=True)"
      ],
      "metadata": {
        "colab": {
          "base_uri": "https://localhost:8080/",
          "height": 297
        },
        "id": "GzHrDJBEoHlV",
        "outputId": "4b8f624c-040b-4547-8727-1baaa933b5b7"
      },
      "execution_count": null,
      "outputs": [
        {
          "output_type": "execute_result",
          "data": {
            "text/plain": [
              "<matplotlib.axes._subplots.AxesSubplot at 0x7f47f3b76a90>"
            ]
          },
          "metadata": {},
          "execution_count": 7
        },
        {
          "output_type": "display_data",
          "data": {
            "text/plain": [
              "<Figure size 432x288 with 1 Axes>"
            ],
            "image/png": "[encoded data removed]"
          },
          "metadata": {
            "needs_background": "light"
          }
        }
      ]
    },
    {
      "cell_type": "code",
      "source": [
        "dataset['Customer_Age'].describe()"
      ],
      "metadata": {
        "colab": {
          "base_uri": "https://localhost:8080/"
        },
        "id": "Qplm34V7n27m",
        "outputId": "1ed6ec1e-1974-4052-9ba8-1e9e430233c4"
      },
      "execution_count": null,
      "outputs": [
        {
          "output_type": "execute_result",
          "data": {
            "text/plain": [
              "count    10127.000000\n",
              "mean        46.325960\n",
              "std          8.016814\n",
              "min         26.000000\n",
              "25%         41.000000\n",
              "50%         46.000000\n",
              "75%         52.000000\n",
              "max         73.000000\n",
              "Name: Customer_Age, dtype: float64"
            ]
          },
          "metadata": {},
          "execution_count": 8
        }
      ]
    },
    {
      "cell_type": "markdown",
      "source": [
        "The histogram of the distribuition of age is realy simple, I don't have any comments."
      ],
      "metadata": {
        "id": "J2vVfUvW1jEq"
      }
    },
    {
      "cell_type": "markdown",
      "source": [
        "## Gender"
      ],
      "metadata": {
        "id": "K1YJVxqS2eej"
      }
    },
    {
      "cell_type": "markdown",
      "source": [
        "OBS: Here we have a problem that is: the dataset is set up only for two genders.<br>\n",
        "We don't see any other gender that is not: Male or Female. The is no category for transgender or non-binary people to fit in. So, I will use this columns as a feature in the model, but keeping in mid that it is not complete as it should be."
      ],
      "metadata": {
        "id": "3MyEDo1s2hBj"
      }
    },
    {
      "cell_type": "code",
      "source": [
        "dataset['Customer_Gender'].describe()"
      ],
      "metadata": {
        "colab": {
          "base_uri": "https://localhost:8080/"
        },
        "id": "9k5EVeuKpnZQ",
        "outputId": "4abd497b-e14d-4b03-b7cd-1a0b3e87ee39"
      },
      "execution_count": null,
      "outputs": [
        {
          "output_type": "execute_result",
          "data": {
            "text/plain": [
              "count     10127\n",
              "unique        2\n",
              "top           F\n",
              "freq       5358\n",
              "Name: Customer_Gender, dtype: object"
            ]
          },
          "metadata": {},
          "execution_count": 9
        }
      ]
    },
    {
      "cell_type": "code",
      "source": [
        "sns.histplot(data = dataset, x = 'Customer_Gender')"
      ],
      "metadata": {
        "colab": {
          "base_uri": "https://localhost:8080/",
          "height": 297
        },
        "id": "xgK98ux22AM-",
        "outputId": "60e3a8e2-603f-43cd-9da9-8daf7ddaf1d5"
      },
      "execution_count": null,
      "outputs": [
        {
          "output_type": "execute_result",
          "data": {
            "text/plain": [
              "<matplotlib.axes._subplots.AxesSubplot at 0x7f47eee88d90>"
            ]
          },
          "metadata": {},
          "execution_count": 10
        },
        {
          "output_type": "display_data",
          "data": {
            "text/plain": [
              "<Figure size 432x288 with 1 Axes>"
            ],
            "image/png": "[encoded data removed]"
          },
          "metadata": {
            "needs_background": "light"
          }
        }
      ]
    },
    {
      "cell_type": "markdown",
      "source": [
        "## Marital Status"
      ],
      "metadata": {
        "id": "1seiHAzu4MGY"
      }
    },
    {
      "cell_type": "code",
      "source": [
        "dataset['Marital_Status'].describe()"
      ],
      "metadata": {
        "colab": {
          "base_uri": "https://localhost:8080/"
        },
        "id": "ZVoXqia22T1N",
        "outputId": "962087c1-b1a8-4e33-a515-d8467165c5bf"
      },
      "execution_count": null,
      "outputs": [
        {
          "output_type": "execute_result",
          "data": {
            "text/plain": [
              "count       10127\n",
              "unique          4\n",
              "top       Married\n",
              "freq         4687\n",
              "Name: Marital_Status, dtype: object"
            ]
          },
          "metadata": {},
          "execution_count": 11
        }
      ]
    },
    {
      "cell_type": "code",
      "source": [
        "dataset['Marital_Status'].value_counts()"
      ],
      "metadata": {
        "colab": {
          "base_uri": "https://localhost:8080/"
        },
        "id": "edexqNQm4Tl9",
        "outputId": "2c26ffaf-2d8a-4889-9b0d-c193bb6a51c7"
      },
      "execution_count": null,
      "outputs": [
        {
          "output_type": "execute_result",
          "data": {
            "text/plain": [
              "Married     4687\n",
              "Single      3943\n",
              "Unknown      749\n",
              "Divorced     748\n",
              "Name: Marital_Status, dtype: int64"
            ]
          },
          "metadata": {},
          "execution_count": 12
        }
      ]
    },
    {
      "cell_type": "markdown",
      "source": [
        "We have some people that the marital status ins unknown. I will treat that like any other category in marial status. Because I don't feel like choosing a marital status for them. "
      ],
      "metadata": {
        "id": "1FU6Y6-T4ock"
      }
    },
    {
      "cell_type": "markdown",
      "source": [
        "## Education Level"
      ],
      "metadata": {
        "id": "_TVod4D8520s"
      }
    },
    {
      "cell_type": "code",
      "source": [
        "dataset['Education_Level'].value_counts()"
      ],
      "metadata": {
        "colab": {
          "base_uri": "https://localhost:8080/"
        },
        "id": "Lu5YVyJG4X0p",
        "outputId": "379c6010-c033-4b46-bd88-747ef98170d7"
      },
      "execution_count": null,
      "outputs": [
        {
          "output_type": "execute_result",
          "data": {
            "text/plain": [
              "Graduate         3128\n",
              "High School      2013\n",
              "Unknown          1519\n",
              "Uneducated       1487\n",
              "College          1013\n",
              "Post-Graduate     516\n",
              "Doctorate         451\n",
              "Name: Education_Level, dtype: int64"
            ]
          },
          "metadata": {},
          "execution_count": 13
        }
      ]
    },
    {
      "cell_type": "code",
      "source": [
        "dataset['Education_Level'].describe()"
      ],
      "metadata": {
        "colab": {
          "base_uri": "https://localhost:8080/"
        },
        "id": "tKAmjpjx5vyn",
        "outputId": "32e7772f-6581-4779-e0c2-4bce3651b11b"
      },
      "execution_count": null,
      "outputs": [
        {
          "output_type": "execute_result",
          "data": {
            "text/plain": [
              "count        10127\n",
              "unique           7\n",
              "top       Graduate\n",
              "freq          3128\n",
              "Name: Education_Level, dtype: object"
            ]
          },
          "metadata": {},
          "execution_count": 14
        }
      ]
    },
    {
      "cell_type": "markdown",
      "source": [
        "## Income Category"
      ],
      "metadata": {
        "id": "z6AWUTEgMMb8"
      }
    },
    {
      "cell_type": "code",
      "source": [
        "dataset['Income_Category'].value_counts()"
      ],
      "metadata": {
        "colab": {
          "base_uri": "https://localhost:8080/"
        },
        "id": "Cr9eRL8eMWex",
        "outputId": "2f5c9cc8-4243-495c-f1dc-da73fc92efd3"
      },
      "execution_count": null,
      "outputs": [
        {
          "output_type": "execute_result",
          "data": {
            "text/plain": [
              "Less than $40K    3561\n",
              "$40K - $60K       1790\n",
              "$80K - $120K      1535\n",
              "$60K - $80K       1402\n",
              "Unknown           1112\n",
              "$120K +            727\n",
              "Name: Income_Category, dtype: int64"
            ]
          },
          "metadata": {},
          "execution_count": 15
        }
      ]
    },
    {
      "cell_type": "markdown",
      "source": [
        "Now, we have a lot of cool things to explore on this dataset.<br>\n",
        "Like: the difference of income per gender, or education lave. Or the credit limit per income, etc. But I will keep working on the kind of stuff on other notebook, here the foccus is on developing a KNN estimator to se if we can presume the card category a person should recieve."
      ],
      "metadata": {
        "id": "n7DFKFKT6jwW"
      }
    },
    {
      "cell_type": "markdown",
      "source": [
        "# Cleaning and preparing the dataset\n",
        "\n",
        "\n",
        "\n"
      ],
      "metadata": {
        "id": "sjK-z_6K7gba"
      }
    },
    {
      "cell_type": "markdown",
      "source": [
        "First we will se if ther is any null values on the dataset"
      ],
      "metadata": {
        "id": "pknNeCod8n9G"
      }
    },
    {
      "cell_type": "code",
      "source": [
        "np.sum(dataset.isna())"
      ],
      "metadata": {
        "colab": {
          "base_uri": "https://localhost:8080/"
        },
        "id": "MgIrEe3e7ivV",
        "outputId": "b727ec61-fa30-4c3f-9ccb-122f26b0b243"
      },
      "execution_count": null,
      "outputs": [
        {
          "output_type": "execute_result",
          "data": {
            "text/plain": [
              "Customer_Id                 0\n",
              "Attrition_Flag              0\n",
              "Customer_Age                0\n",
              "Customer_Gender             0\n",
              "Dependent_Count             0\n",
              "Education_Level             0\n",
              "Marital_Status              0\n",
              "Income_Category             0\n",
              "Card_Category               0\n",
              "Months_on_book              0\n",
              "Total_Relationship_Count    0\n",
              "Months_Inactive_12_mon      0\n",
              "Contacts_Count_12_mon       0\n",
              "Credit_Limit                0\n",
              "Total_Revolving_Bal         0\n",
              "Avg_Open_To_Buy             0\n",
              "Total_Trans_Amt             0\n",
              "Total_Trans_Ct              0\n",
              "Avg_Utilization_Ratio       0\n",
              "dtype: int64"
            ]
          },
          "metadata": {},
          "execution_count": 16
        }
      ]
    },
    {
      "cell_type": "markdown",
      "source": [
        "Luckly we havan't any NA values."
      ],
      "metadata": {
        "id": "uJmlwjdv87Sn"
      }
    },
    {
      "cell_type": "markdown",
      "source": [
        "## Categorical Features"
      ],
      "metadata": {
        "id": "jec-OCEs-QxF"
      }
    },
    {
      "cell_type": "markdown",
      "source": [
        "Now we need to treat the categorial features. <br>\n",
        "For that I will use the OneHotEncoder"
      ],
      "metadata": {
        "id": "oIXMwrre-Wuw"
      }
    },
    {
      "cell_type": "code",
      "source": [
        "from sklearn.preprocessing import OneHotEncoder"
      ],
      "metadata": {
        "id": "0WLJo2AVCeQ8"
      },
      "execution_count": null,
      "outputs": []
    },
    {
      "cell_type": "markdown",
      "source": [
        "### Gender"
      ],
      "metadata": {
        "id": "jJADbXGvCO6u"
      }
    },
    {
      "cell_type": "markdown",
      "source": [
        "The gender category is easy to treat because we have only 2 categories. So I will just use 1 for male and 0 for female"
      ],
      "metadata": {
        "id": "bkTVhxLkCsYC"
      }
    },
    {
      "cell_type": "code",
      "source": [
        "gender_map = {\n",
        "    'M': 1,\n",
        "    'F': 0\n",
        "}\n",
        "\n",
        "dataset['Customer_Gender'] = dataset['Customer_Gender'].map(gender_map)\n",
        "dataset.head()"
      ],
      "metadata": {
        "colab": {
          "base_uri": "https://localhost:8080/",
          "height": 357
        },
        "id": "hil-E2UY85jx",
        "outputId": "2d8daa45-beb2-49ed-b560-4a2e85e7b417"
      },
      "execution_count": null,
      "outputs": [
        {
          "output_type": "execute_result",
          "data": {
            "text/plain": [
              "   Customer_Id     Attrition_Flag  Customer_Age  Customer_Gender  \\\n",
              "0    768805383  Existing Customer            45                1   \n",
              "1    818770008  Existing Customer            49                0   \n",
              "2    713982108  Existing Customer            51                1   \n",
              "3    769911858  Existing Customer            40                0   \n",
              "4    709106358  Existing Customer            40                1   \n",
              "\n",
              "   Dependent_Count Education_Level Marital_Status Income_Category  \\\n",
              "0                3     High School        Married     $60K - $80K   \n",
              "1                5        Graduate         Single  Less than $40K   \n",
              "2                3        Graduate        Married    $80K - $120K   \n",
              "3                4     High School        Unknown  Less than $40K   \n",
              "4                3      Uneducated        Married     $60K - $80K   \n",
              "\n",
              "  Card_Category  Months_on_book  Total_Relationship_Count  \\\n",
              "0          Blue              39                         5   \n",
              "1          Blue              44                         6   \n",
              "2          Blue              36                         4   \n",
              "3          Blue              34                         3   \n",
              "4          Blue              21                         5   \n",
              "\n",
              "   Months_Inactive_12_mon  Contacts_Count_12_mon  Credit_Limit  \\\n",
              "0                       1                      3       12691.0   \n",
              "1                       1                      2        8256.0   \n",
              "2                       1                      0        3418.0   \n",
              "3                       4                      1        3313.0   \n",
              "4                       1                      0        4716.0   \n",
              "\n",
              "   Total_Revolving_Bal  Avg_Open_To_Buy  Total_Trans_Amt  Total_Trans_Ct  \\\n",
              "0                  777          11914.0             1144              42   \n",
              "1                  864           7392.0             1291              33   \n",
              "2                    0           3418.0             1887              20   \n",
              "3                 2517            796.0             1171              20   \n",
              "4                    0           4716.0              816              28   \n",
              "\n",
              "   Avg_Utilization_Ratio  \n",
              "0                  0.061  \n",
              "1                  0.105  \n",
              "2                  0.000  \n",
              "3                  0.760  \n",
              "4                  0.000  "
            ],
            "text/html": [
              "\n",
              "  <div id=\"df-7ec342bb-5ee1-4686-aa24-4ed980206454\">\n",
              "    <div class=\"colab-df-container\">\n",
              "      <div>\n",
              "<style scoped>\n",
              "    .dataframe tbody tr th:only-of-type {\n",
              "        vertical-align: middle;\n",
              "    }\n",
              "\n",
              "    .dataframe tbody tr th {\n",
              "        vertical-align: top;\n",
              "    }\n",
              "\n",
              "    .dataframe thead th {\n",
              "        text-align: right;\n",
              "    }\n",
              "</style>\n",
              "<table border=\"1\" class=\"dataframe\">\n",
              "  <thead>\n",
              "    <tr style=\"text-align: right;\">\n",
              "      <th></th>\n",
              "      <th>Customer_Id</th>\n",
              "      <th>Attrition_Flag</th>\n",
              "      <th>Customer_Age</th>\n",
              "      <th>Customer_Gender</th>\n",
              "      <th>Dependent_Count</th>\n",
              "      <th>Education_Level</th>\n",
              "      <th>Marital_Status</th>\n",
              "      <th>Income_Category</th>\n",
              "      <th>Card_Category</th>\n",
              "      <th>Months_on_book</th>\n",
              "      <th>Total_Relationship_Count</th>\n",
              "      <th>Months_Inactive_12_mon</th>\n",
              "      <th>Contacts_Count_12_mon</th>\n",
              "      <th>Credit_Limit</th>\n",
              "      <th>Total_Revolving_Bal</th>\n",
              "      <th>Avg_Open_To_Buy</th>\n",
              "      <th>Total_Trans_Amt</th>\n",
              "      <th>Total_Trans_Ct</th>\n",
              "      <th>Avg_Utilization_Ratio</th>\n",
              "    </tr>\n",
              "  </thead>\n",
              "  <tbody>\n",
              "    <tr>\n",
              "      <th>0</th>\n",
              "      <td>768805383</td>\n",
              "      <td>Existing Customer</td>\n",
              "      <td>45</td>\n",
              "      <td>1</td>\n",
              "      <td>3</td>\n",
              "      <td>High School</td>\n",
              "      <td>Married</td>\n",
              "      <td>$60K - $80K</td>\n",
              "      <td>Blue</td>\n",
              "      <td>39</td>\n",
              "      <td>5</td>\n",
              "      <td>1</td>\n",
              "      <td>3</td>\n",
              "      <td>12691.0</td>\n",
              "      <td>777</td>\n",
              "      <td>11914.0</td>\n",
              "      <td>1144</td>\n",
              "      <td>42</td>\n",
              "      <td>0.061</td>\n",
              "    </tr>\n",
              "    <tr>\n",
              "      <th>1</th>\n",
              "      <td>818770008</td>\n",
              "      <td>Existing Customer</td>\n",
              "      <td>49</td>\n",
              "      <td>0</td>\n",
              "      <td>5</td>\n",
              "      <td>Graduate</td>\n",
              "      <td>Single</td>\n",
              "      <td>Less than $40K</td>\n",
              "      <td>Blue</td>\n",
              "      <td>44</td>\n",
              "      <td>6</td>\n",
              "      <td>1</td>\n",
              "      <td>2</td>\n",
              "      <td>8256.0</td>\n",
              "      <td>864</td>\n",
              "      <td>7392.0</td>\n",
              "      <td>1291</td>\n",
              "      <td>33</td>\n",
              "      <td>0.105</td>\n",
              "    </tr>\n",
              "    <tr>\n",
              "      <th>2</th>\n",
              "      <td>713982108</td>\n",
              "      <td>Existing Customer</td>\n",
              "      <td>51</td>\n",
              "      <td>1</td>\n",
              "      <td>3</td>\n",
              "      <td>Graduate</td>\n",
              "      <td>Married</td>\n",
              "      <td>$80K - $120K</td>\n",
              "      <td>Blue</td>\n",
              "      <td>36</td>\n",
              "      <td>4</td>\n",
              "      <td>1</td>\n",
              "      <td>0</td>\n",
              "      <td>3418.0</td>\n",
              "      <td>0</td>\n",
              "      <td>3418.0</td>\n",
              "      <td>1887</td>\n",
              "      <td>20</td>\n",
              "      <td>0.000</td>\n",
              "    </tr>\n",
              "    <tr>\n",
              "      <th>3</th>\n",
              "      <td>769911858</td>\n",
              "      <td>Existing Customer</td>\n",
              "      <td>40</td>\n",
              "      <td>0</td>\n",
              "      <td>4</td>\n",
              "      <td>High School</td>\n",
              "      <td>Unknown</td>\n",
              "      <td>Less than $40K</td>\n",
              "      <td>Blue</td>\n",
              "      <td>34</td>\n",
              "      <td>3</td>\n",
              "      <td>4</td>\n",
              "      <td>1</td>\n",
              "      <td>3313.0</td>\n",
              "      <td>2517</td>\n",
              "      <td>796.0</td>\n",
              "      <td>1171</td>\n",
              "      <td>20</td>\n",
              "      <td>0.760</td>\n",
              "    </tr>\n",
              "    <tr>\n",
              "      <th>4</th>\n",
              "      <td>709106358</td>\n",
              "      <td>Existing Customer</td>\n",
              "      <td>40</td>\n",
              "      <td>1</td>\n",
              "      <td>3</td>\n",
              "      <td>Uneducated</td>\n",
              "      <td>Married</td>\n",
              "      <td>$60K - $80K</td>\n",
              "      <td>Blue</td>\n",
              "      <td>21</td>\n",
              "      <td>5</td>\n",
              "      <td>1</td>\n",
              "      <td>0</td>\n",
              "      <td>4716.0</td>\n",
              "      <td>0</td>\n",
              "      <td>4716.0</td>\n",
              "      <td>816</td>\n",
              "      <td>28</td>\n",
              "      <td>0.000</td>\n",
              "    </tr>\n",
              "  </tbody>\n",
              "</table>\n",
              "</div>\n",
              "      <button class=\"colab-df-convert\" onclick=\"convertToInteractive('df-7ec342bb-5ee1-4686-aa24-4ed980206454')\"\n",
              "              title=\"Convert this dataframe to an interactive table.\"\n",
              "              style=\"display:none;\">\n",
              "        \n",
              "  <svg xmlns=\"http://www.w3.org/2000/svg\" height=\"24px\"viewBox=\"0 0 24 24\"\n",
              "       width=\"24px\">\n",
              "    <path d=\"M0 0h24v24H0V0z\" fill=\"none\"/>\n",
              "    <path d=\"M18.56 5.44l.94 2.06.94-2.06 2.06-.94-2.06-.94-.94-2.06-.94 2.06-2.06.94zm-11 1L8.5 8.5l.94-2.06 2.06-.94-2.06-.94L8.5 2.5l-.94 2.06-2.06.94zm10 10l.94 2.06.94-2.06 2.06-.94-2.06-.94-.94-2.06-.94 2.06-2.06.94z\"/><path d=\"M17.41 7.96l-1.37-1.37c-.4-.4-.92-.59-1.43-.59-.52 0-1.04.2-1.43.59L10.3 9.45l-7.72 7.72c-.78.78-.78 2.05 0 2.83L4 21.41c.39.39.9.59 1.41.59.51 0 1.02-.2 1.41-.59l7.78-7.78 2.81-2.81c.8-.78.8-2.07 0-2.86zM5.41 20L4 18.59l7.72-7.72 1.47 1.35L5.41 20z\"/>\n",
              "  </svg>\n",
              "      </button>\n",
              "      \n",
              "  <style>\n",
              "    .colab-df-container {\n",
              "      display:flex;\n",
              "      flex-wrap:wrap;\n",
              "      gap: 12px;\n",
              "    }\n",
              "\n",
              "    .colab-df-convert {\n",
              "      background-color: #E8F0FE;\n",
              "      border: none;\n",
              "      border-radius: 50%;\n",
              "      cursor: pointer;\n",
              "      display: none;\n",
              "      fill: #1967D2;\n",
              "      height: 32px;\n",
              "      padding: 0 0 0 0;\n",
              "      width: 32px;\n",
              "    }\n",
              "\n",
              "    .colab-df-convert:hover {\n",
              "      background-color: #E2EBFA;\n",
              "      box-shadow: 0px 1px 2px rgba(60, 64, 67, 0.3), 0px 1px 3px 1px rgba(60, 64, 67, 0.15);\n",
              "      fill: #174EA6;\n",
              "    }\n",
              "\n",
              "    [theme=dark] .colab-df-convert {\n",
              "      background-color: #3B4455;\n",
              "      fill: #D2E3FC;\n",
              "    }\n",
              "\n",
              "    [theme=dark] .colab-df-convert:hover {\n",
              "      background-color: #434B5C;\n",
              "      box-shadow: 0px 1px 3px 1px rgba(0, 0, 0, 0.15);\n",
              "      filter: drop-shadow(0px 1px 2px rgba(0, 0, 0, 0.3));\n",
              "      fill: #FFFFFF;\n",
              "    }\n",
              "  </style>\n",
              "\n",
              "      <script>\n",
              "        const buttonEl =\n",
              "          document.querySelector('#df-7ec342bb-5ee1-4686-aa24-4ed980206454 button.colab-df-convert');\n",
              "        buttonEl.style.display =\n",
              "          google.colab.kernel.accessAllowed ? 'block' : 'none';\n",
              "\n",
              "        async function convertToInteractive(key) {\n",
              "          const element = document.querySelector('#df-7ec342bb-5ee1-4686-aa24-4ed980206454');\n",
              "          const dataTable =\n",
              "            await google.colab.kernel.invokeFunction('convertToInteractive',\n",
              "                                                     [key], {});\n",
              "          if (!dataTable) return;\n",
              "\n",
              "          const docLinkHtml = 'Like what you see? Visit the ' +\n",
              "            '<a target=\"_blank\" href=https://colab.research.google.com/notebooks/data_table.ipynb>data table notebook</a>'\n",
              "            + ' to learn more about interactive tables.';\n",
              "          element.innerHTML = '';\n",
              "          dataTable['output_type'] = 'display_data';\n",
              "          await google.colab.output.renderOutput(dataTable, element);\n",
              "          const docLink = document.createElement('div');\n",
              "          docLink.innerHTML = docLinkHtml;\n",
              "          element.appendChild(docLink);\n",
              "        }\n",
              "      </script>\n",
              "    </div>\n",
              "  </div>\n",
              "  "
            ]
          },
          "metadata": {},
          "execution_count": 54
        }
      ]
    },
    {
      "cell_type": "markdown",
      "source": [
        "### Education Level"
      ],
      "metadata": {
        "id": "N56mxZU_I4so"
      }
    },
    {
      "cell_type": "markdown",
      "source": [
        "The education level is is a ordinal category, so I will assign to the 0 up to 6 according to the the education level. And assigning 0 to unknown"
      ],
      "metadata": {
        "id": "NzuUfUAxI-mT"
      }
    },
    {
      "cell_type": "code",
      "source": [
        "education_level_map = {\n",
        "        'Unknown'       : 0,\n",
        "        'Uneducated'    : 1,\n",
        "        'High School'   : 2,\n",
        "        'College'       : 3,\n",
        "        'Graduate'      : 4,\n",
        "        'Post-Graduate' : 5,\n",
        "        'Doctorate'     : 6\n",
        "}\n",
        "\n",
        "dataset['Education_Level'] = dataset['Education_Level'].map(education_level_map)\n",
        "dataset.head()"
      ],
      "metadata": {
        "colab": {
          "base_uri": "https://localhost:8080/",
          "height": 357
        },
        "id": "E1-Izr3wDCNM",
        "outputId": "e2e6d9fe-cf33-4081-fd72-e08fb911bd3a"
      },
      "execution_count": null,
      "outputs": [
        {
          "output_type": "execute_result",
          "data": {
            "text/plain": [
              "   Customer_Id     Attrition_Flag  Customer_Age  Customer_Gender  \\\n",
              "0    768805383  Existing Customer            45                1   \n",
              "1    818770008  Existing Customer            49                0   \n",
              "2    713982108  Existing Customer            51                1   \n",
              "3    769911858  Existing Customer            40                0   \n",
              "4    709106358  Existing Customer            40                1   \n",
              "\n",
              "   Dependent_Count  Education_Level Marital_Status Income_Category  \\\n",
              "0                3                2        Married     $60K - $80K   \n",
              "1                5                4         Single  Less than $40K   \n",
              "2                3                4        Married    $80K - $120K   \n",
              "3                4                2        Unknown  Less than $40K   \n",
              "4                3                1        Married     $60K - $80K   \n",
              "\n",
              "  Card_Category  Months_on_book  Total_Relationship_Count  \\\n",
              "0          Blue              39                         5   \n",
              "1          Blue              44                         6   \n",
              "2          Blue              36                         4   \n",
              "3          Blue              34                         3   \n",
              "4          Blue              21                         5   \n",
              "\n",
              "   Months_Inactive_12_mon  Contacts_Count_12_mon  Credit_Limit  \\\n",
              "0                       1                      3       12691.0   \n",
              "1                       1                      2        8256.0   \n",
              "2                       1                      0        3418.0   \n",
              "3                       4                      1        3313.0   \n",
              "4                       1                      0        4716.0   \n",
              "\n",
              "   Total_Revolving_Bal  Avg_Open_To_Buy  Total_Trans_Amt  Total_Trans_Ct  \\\n",
              "0                  777          11914.0             1144              42   \n",
              "1                  864           7392.0             1291              33   \n",
              "2                    0           3418.0             1887              20   \n",
              "3                 2517            796.0             1171              20   \n",
              "4                    0           4716.0              816              28   \n",
              "\n",
              "   Avg_Utilization_Ratio  \n",
              "0                  0.061  \n",
              "1                  0.105  \n",
              "2                  0.000  \n",
              "3                  0.760  \n",
              "4                  0.000  "
            ],
            "text/html": [
              "\n",
              "  <div id=\"df-5dd5fa59-a199-4d9c-8b55-a9d4c37e6d3f\">\n",
              "    <div class=\"colab-df-container\">\n",
              "      <div>\n",
              "<style scoped>\n",
              "    .dataframe tbody tr th:only-of-type {\n",
              "        vertical-align: middle;\n",
              "    }\n",
              "\n",
              "    .dataframe tbody tr th {\n",
              "        vertical-align: top;\n",
              "    }\n",
              "\n",
              "    .dataframe thead th {\n",
              "        text-align: right;\n",
              "    }\n",
              "</style>\n",
              "<table border=\"1\" class=\"dataframe\">\n",
              "  <thead>\n",
              "    <tr style=\"text-align: right;\">\n",
              "      <th></th>\n",
              "      <th>Customer_Id</th>\n",
              "      <th>Attrition_Flag</th>\n",
              "      <th>Customer_Age</th>\n",
              "      <th>Customer_Gender</th>\n",
              "      <th>Dependent_Count</th>\n",
              "      <th>Education_Level</th>\n",
              "      <th>Marital_Status</th>\n",
              "      <th>Income_Category</th>\n",
              "      <th>Card_Category</th>\n",
              "      <th>Months_on_book</th>\n",
              "      <th>Total_Relationship_Count</th>\n",
              "      <th>Months_Inactive_12_mon</th>\n",
              "      <th>Contacts_Count_12_mon</th>\n",
              "      <th>Credit_Limit</th>\n",
              "      <th>Total_Revolving_Bal</th>\n",
              "      <th>Avg_Open_To_Buy</th>\n",
              "      <th>Total_Trans_Amt</th>\n",
              "      <th>Total_Trans_Ct</th>\n",
              "      <th>Avg_Utilization_Ratio</th>\n",
              "    </tr>\n",
              "  </thead>\n",
              "  <tbody>\n",
              "    <tr>\n",
              "      <th>0</th>\n",
              "      <td>768805383</td>\n",
              "      <td>Existing Customer</td>\n",
              "      <td>45</td>\n",
              "      <td>1</td>\n",
              "      <td>3</td>\n",
              "      <td>2</td>\n",
              "      <td>Married</td>\n",
              "      <td>$60K - $80K</td>\n",
              "      <td>Blue</td>\n",
              "      <td>39</td>\n",
              "      <td>5</td>\n",
              "      <td>1</td>\n",
              "      <td>3</td>\n",
              "      <td>12691.0</td>\n",
              "      <td>777</td>\n",
              "      <td>11914.0</td>\n",
              "      <td>1144</td>\n",
              "      <td>42</td>\n",
              "      <td>0.061</td>\n",
              "    </tr>\n",
              "    <tr>\n",
              "      <th>1</th>\n",
              "      <td>818770008</td>\n",
              "      <td>Existing Customer</td>\n",
              "      <td>49</td>\n",
              "      <td>0</td>\n",
              "      <td>5</td>\n",
              "      <td>4</td>\n",
              "      <td>Single</td>\n",
              "      <td>Less than $40K</td>\n",
              "      <td>Blue</td>\n",
              "      <td>44</td>\n",
              "      <td>6</td>\n",
              "      <td>1</td>\n",
              "      <td>2</td>\n",
              "      <td>8256.0</td>\n",
              "      <td>864</td>\n",
              "      <td>7392.0</td>\n",
              "      <td>1291</td>\n",
              "      <td>33</td>\n",
              "      <td>0.105</td>\n",
              "    </tr>\n",
              "    <tr>\n",
              "      <th>2</th>\n",
              "      <td>713982108</td>\n",
              "      <td>Existing Customer</td>\n",
              "      <td>51</td>\n",
              "      <td>1</td>\n",
              "      <td>3</td>\n",
              "      <td>4</td>\n",
              "      <td>Married</td>\n",
              "      <td>$80K - $120K</td>\n",
              "      <td>Blue</td>\n",
              "      <td>36</td>\n",
              "      <td>4</td>\n",
              "      <td>1</td>\n",
              "      <td>0</td>\n",
              "      <td>3418.0</td>\n",
              "      <td>0</td>\n",
              "      <td>3418.0</td>\n",
              "      <td>1887</td>\n",
              "      <td>20</td>\n",
              "      <td>0.000</td>\n",
              "    </tr>\n",
              "    <tr>\n",
              "      <th>3</th>\n",
              "      <td>769911858</td>\n",
              "      <td>Existing Customer</td>\n",
              "      <td>40</td>\n",
              "      <td>0</td>\n",
              "      <td>4</td>\n",
              "      <td>2</td>\n",
              "      <td>Unknown</td>\n",
              "      <td>Less than $40K</td>\n",
              "      <td>Blue</td>\n",
              "      <td>34</td>\n",
              "      <td>3</td>\n",
              "      <td>4</td>\n",
              "      <td>1</td>\n",
              "      <td>3313.0</td>\n",
              "      <td>2517</td>\n",
              "      <td>796.0</td>\n",
              "      <td>1171</td>\n",
              "      <td>20</td>\n",
              "      <td>0.760</td>\n",
              "    </tr>\n",
              "    <tr>\n",
              "      <th>4</th>\n",
              "      <td>709106358</td>\n",
              "      <td>Existing Customer</td>\n",
              "      <td>40</td>\n",
              "      <td>1</td>\n",
              "      <td>3</td>\n",
              "      <td>1</td>\n",
              "      <td>Married</td>\n",
              "      <td>$60K - $80K</td>\n",
              "      <td>Blue</td>\n",
              "      <td>21</td>\n",
              "      <td>5</td>\n",
              "      <td>1</td>\n",
              "      <td>0</td>\n",
              "      <td>4716.0</td>\n",
              "      <td>0</td>\n",
              "      <td>4716.0</td>\n",
              "      <td>816</td>\n",
              "      <td>28</td>\n",
              "      <td>0.000</td>\n",
              "    </tr>\n",
              "  </tbody>\n",
              "</table>\n",
              "</div>\n",
              "      <button class=\"colab-df-convert\" onclick=\"convertToInteractive('df-5dd5fa59-a199-4d9c-8b55-a9d4c37e6d3f')\"\n",
              "              title=\"Convert this dataframe to an interactive table.\"\n",
              "              style=\"display:none;\">\n",
              "        \n",
              "  <svg xmlns=\"http://www.w3.org/2000/svg\" height=\"24px\"viewBox=\"0 0 24 24\"\n",
              "       width=\"24px\">\n",
              "    <path d=\"M0 0h24v24H0V0z\" fill=\"none\"/>\n",
              "    <path d=\"M18.56 5.44l.94 2.06.94-2.06 2.06-.94-2.06-.94-.94-2.06-.94 2.06-2.06.94zm-11 1L8.5 8.5l.94-2.06 2.06-.94-2.06-.94L8.5 2.5l-.94 2.06-2.06.94zm10 10l.94 2.06.94-2.06 2.06-.94-2.06-.94-.94-2.06-.94 2.06-2.06.94z\"/><path d=\"M17.41 7.96l-1.37-1.37c-.4-.4-.92-.59-1.43-.59-.52 0-1.04.2-1.43.59L10.3 9.45l-7.72 7.72c-.78.78-.78 2.05 0 2.83L4 21.41c.39.39.9.59 1.41.59.51 0 1.02-.2 1.41-.59l7.78-7.78 2.81-2.81c.8-.78.8-2.07 0-2.86zM5.41 20L4 18.59l7.72-7.72 1.47 1.35L5.41 20z\"/>\n",
              "  </svg>\n",
              "      </button>\n",
              "      \n",
              "  <style>\n",
              "    .colab-df-container {\n",
              "      display:flex;\n",
              "      flex-wrap:wrap;\n",
              "      gap: 12px;\n",
              "    }\n",
              "\n",
              "    .colab-df-convert {\n",
              "      background-color: #E8F0FE;\n",
              "      border: none;\n",
              "      border-radius: 50%;\n",
              "      cursor: pointer;\n",
              "      display: none;\n",
              "      fill: #1967D2;\n",
              "      height: 32px;\n",
              "      padding: 0 0 0 0;\n",
              "      width: 32px;\n",
              "    }\n",
              "\n",
              "    .colab-df-convert:hover {\n",
              "      background-color: #E2EBFA;\n",
              "      box-shadow: 0px 1px 2px rgba(60, 64, 67, 0.3), 0px 1px 3px 1px rgba(60, 64, 67, 0.15);\n",
              "      fill: #174EA6;\n",
              "    }\n",
              "\n",
              "    [theme=dark] .colab-df-convert {\n",
              "      background-color: #3B4455;\n",
              "      fill: #D2E3FC;\n",
              "    }\n",
              "\n",
              "    [theme=dark] .colab-df-convert:hover {\n",
              "      background-color: #434B5C;\n",
              "      box-shadow: 0px 1px 3px 1px rgba(0, 0, 0, 0.15);\n",
              "      filter: drop-shadow(0px 1px 2px rgba(0, 0, 0, 0.3));\n",
              "      fill: #FFFFFF;\n",
              "    }\n",
              "  </style>\n",
              "\n",
              "      <script>\n",
              "        const buttonEl =\n",
              "          document.querySelector('#df-5dd5fa59-a199-4d9c-8b55-a9d4c37e6d3f button.colab-df-convert');\n",
              "        buttonEl.style.display =\n",
              "          google.colab.kernel.accessAllowed ? 'block' : 'none';\n",
              "\n",
              "        async function convertToInteractive(key) {\n",
              "          const element = document.querySelector('#df-5dd5fa59-a199-4d9c-8b55-a9d4c37e6d3f');\n",
              "          const dataTable =\n",
              "            await google.colab.kernel.invokeFunction('convertToInteractive',\n",
              "                                                     [key], {});\n",
              "          if (!dataTable) return;\n",
              "\n",
              "          const docLinkHtml = 'Like what you see? Visit the ' +\n",
              "            '<a target=\"_blank\" href=https://colab.research.google.com/notebooks/data_table.ipynb>data table notebook</a>'\n",
              "            + ' to learn more about interactive tables.';\n",
              "          element.innerHTML = '';\n",
              "          dataTable['output_type'] = 'display_data';\n",
              "          await google.colab.output.renderOutput(dataTable, element);\n",
              "          const docLink = document.createElement('div');\n",
              "          docLink.innerHTML = docLinkHtml;\n",
              "          element.appendChild(docLink);\n",
              "        }\n",
              "      </script>\n",
              "    </div>\n",
              "  </div>\n",
              "  "
            ]
          },
          "metadata": {},
          "execution_count": 55
        }
      ]
    },
    {
      "cell_type": "markdown",
      "source": [
        "### Incoming Category"
      ],
      "metadata": {
        "id": "D_68UljgUJ4X"
      }
    },
    {
      "cell_type": "markdown",
      "source": [
        "The Incoming Category is also an ordinal feature. So we will rate it from 0 up to 6. Just like we did on the Education Level "
      ],
      "metadata": {
        "id": "quO64uwjUSDC"
      }
    },
    {
      "cell_type": "code",
      "source": [
        "incoming_category_map = {\n",
        "    'Unknown'        : 0,\n",
        "    'Less than $40K' : 1, \n",
        "    '$40K - $60K'    : 2,\n",
        "    '$60K - $80K'    : 3,\n",
        "    '$80K - $120K'   : 4,\n",
        "    '$120K +'        : 5\n",
        "}\n",
        "\n",
        "dataset['Income_Category'] = dataset['Income_Category'].map(incoming_category_map)\n",
        "dataset.head()"
      ],
      "metadata": {
        "id": "HWsIKsfjFgLK",
        "colab": {
          "base_uri": "https://localhost:8080/",
          "height": 357
        },
        "outputId": "94ea325d-44d1-4d37-ea68-640dd2a18967"
      },
      "execution_count": null,
      "outputs": [
        {
          "output_type": "execute_result",
          "data": {
            "text/plain": [
              "   Customer_Id     Attrition_Flag  Customer_Age  Customer_Gender  \\\n",
              "0    768805383  Existing Customer            45                1   \n",
              "1    818770008  Existing Customer            49                0   \n",
              "2    713982108  Existing Customer            51                1   \n",
              "3    769911858  Existing Customer            40                0   \n",
              "4    709106358  Existing Customer            40                1   \n",
              "\n",
              "   Dependent_Count  Education_Level Marital_Status  Income_Category  \\\n",
              "0                3                2        Married                3   \n",
              "1                5                4         Single                1   \n",
              "2                3                4        Married                4   \n",
              "3                4                2        Unknown                1   \n",
              "4                3                1        Married                3   \n",
              "\n",
              "  Card_Category  Months_on_book  Total_Relationship_Count  \\\n",
              "0          Blue              39                         5   \n",
              "1          Blue              44                         6   \n",
              "2          Blue              36                         4   \n",
              "3          Blue              34                         3   \n",
              "4          Blue              21                         5   \n",
              "\n",
              "   Months_Inactive_12_mon  Contacts_Count_12_mon  Credit_Limit  \\\n",
              "0                       1                      3       12691.0   \n",
              "1                       1                      2        8256.0   \n",
              "2                       1                      0        3418.0   \n",
              "3                       4                      1        3313.0   \n",
              "4                       1                      0        4716.0   \n",
              "\n",
              "   Total_Revolving_Bal  Avg_Open_To_Buy  Total_Trans_Amt  Total_Trans_Ct  \\\n",
              "0                  777          11914.0             1144              42   \n",
              "1                  864           7392.0             1291              33   \n",
              "2                    0           3418.0             1887              20   \n",
              "3                 2517            796.0             1171              20   \n",
              "4                    0           4716.0              816              28   \n",
              "\n",
              "   Avg_Utilization_Ratio  \n",
              "0                  0.061  \n",
              "1                  0.105  \n",
              "2                  0.000  \n",
              "3                  0.760  \n",
              "4                  0.000  "
            ],
            "text/html": [
              "\n",
              "  <div id=\"df-247de417-221a-41c3-af53-f52d136bdec5\">\n",
              "    <div class=\"colab-df-container\">\n",
              "      <div>\n",
              "<style scoped>\n",
              "    .dataframe tbody tr th:only-of-type {\n",
              "        vertical-align: middle;\n",
              "    }\n",
              "\n",
              "    .dataframe tbody tr th {\n",
              "        vertical-align: top;\n",
              "    }\n",
              "\n",
              "    .dataframe thead th {\n",
              "        text-align: right;\n",
              "    }\n",
              "</style>\n",
              "<table border=\"1\" class=\"dataframe\">\n",
              "  <thead>\n",
              "    <tr style=\"text-align: right;\">\n",
              "      <th></th>\n",
              "      <th>Customer_Id</th>\n",
              "      <th>Attrition_Flag</th>\n",
              "      <th>Customer_Age</th>\n",
              "      <th>Customer_Gender</th>\n",
              "      <th>Dependent_Count</th>\n",
              "      <th>Education_Level</th>\n",
              "      <th>Marital_Status</th>\n",
              "      <th>Income_Category</th>\n",
              "      <th>Card_Category</th>\n",
              "      <th>Months_on_book</th>\n",
              "      <th>Total_Relationship_Count</th>\n",
              "      <th>Months_Inactive_12_mon</th>\n",
              "      <th>Contacts_Count_12_mon</th>\n",
              "      <th>Credit_Limit</th>\n",
              "      <th>Total_Revolving_Bal</th>\n",
              "      <th>Avg_Open_To_Buy</th>\n",
              "      <th>Total_Trans_Amt</th>\n",
              "      <th>Total_Trans_Ct</th>\n",
              "      <th>Avg_Utilization_Ratio</th>\n",
              "    </tr>\n",
              "  </thead>\n",
              "  <tbody>\n",
              "    <tr>\n",
              "      <th>0</th>\n",
              "      <td>768805383</td>\n",
              "      <td>Existing Customer</td>\n",
              "      <td>45</td>\n",
              "      <td>1</td>\n",
              "      <td>3</td>\n",
              "      <td>2</td>\n",
              "      <td>Married</td>\n",
              "      <td>3</td>\n",
              "      <td>Blue</td>\n",
              "      <td>39</td>\n",
              "      <td>5</td>\n",
              "      <td>1</td>\n",
              "      <td>3</td>\n",
              "      <td>12691.0</td>\n",
              "      <td>777</td>\n",
              "      <td>11914.0</td>\n",
              "      <td>1144</td>\n",
              "      <td>42</td>\n",
              "      <td>0.061</td>\n",
              "    </tr>\n",
              "    <tr>\n",
              "      <th>1</th>\n",
              "      <td>818770008</td>\n",
              "      <td>Existing Customer</td>\n",
              "      <td>49</td>\n",
              "      <td>0</td>\n",
              "      <td>5</td>\n",
              "      <td>4</td>\n",
              "      <td>Single</td>\n",
              "      <td>1</td>\n",
              "      <td>Blue</td>\n",
              "      <td>44</td>\n",
              "      <td>6</td>\n",
              "      <td>1</td>\n",
              "      <td>2</td>\n",
              "      <td>8256.0</td>\n",
              "      <td>864</td>\n",
              "      <td>7392.0</td>\n",
              "      <td>1291</td>\n",
              "      <td>33</td>\n",
              "      <td>0.105</td>\n",
              "    </tr>\n",
              "    <tr>\n",
              "      <th>2</th>\n",
              "      <td>713982108</td>\n",
              "      <td>Existing Customer</td>\n",
              "      <td>51</td>\n",
              "      <td>1</td>\n",
              "      <td>3</td>\n",
              "      <td>4</td>\n",
              "      <td>Married</td>\n",
              "      <td>4</td>\n",
              "      <td>Blue</td>\n",
              "      <td>36</td>\n",
              "      <td>4</td>\n",
              "      <td>1</td>\n",
              "      <td>0</td>\n",
              "      <td>3418.0</td>\n",
              "      <td>0</td>\n",
              "      <td>3418.0</td>\n",
              "      <td>1887</td>\n",
              "      <td>20</td>\n",
              "      <td>0.000</td>\n",
              "    </tr>\n",
              "    <tr>\n",
              "      <th>3</th>\n",
              "      <td>769911858</td>\n",
              "      <td>Existing Customer</td>\n",
              "      <td>40</td>\n",
              "      <td>0</td>\n",
              "      <td>4</td>\n",
              "      <td>2</td>\n",
              "      <td>Unknown</td>\n",
              "      <td>1</td>\n",
              "      <td>Blue</td>\n",
              "      <td>34</td>\n",
              "      <td>3</td>\n",
              "      <td>4</td>\n",
              "      <td>1</td>\n",
              "      <td>3313.0</td>\n",
              "      <td>2517</td>\n",
              "      <td>796.0</td>\n",
              "      <td>1171</td>\n",
              "      <td>20</td>\n",
              "      <td>0.760</td>\n",
              "    </tr>\n",
              "    <tr>\n",
              "      <th>4</th>\n",
              "      <td>709106358</td>\n",
              "      <td>Existing Customer</td>\n",
              "      <td>40</td>\n",
              "      <td>1</td>\n",
              "      <td>3</td>\n",
              "      <td>1</td>\n",
              "      <td>Married</td>\n",
              "      <td>3</td>\n",
              "      <td>Blue</td>\n",
              "      <td>21</td>\n",
              "      <td>5</td>\n",
              "      <td>1</td>\n",
              "      <td>0</td>\n",
              "      <td>4716.0</td>\n",
              "      <td>0</td>\n",
              "      <td>4716.0</td>\n",
              "      <td>816</td>\n",
              "      <td>28</td>\n",
              "      <td>0.000</td>\n",
              "    </tr>\n",
              "  </tbody>\n",
              "</table>\n",
              "</div>\n",
              "      <button class=\"colab-df-convert\" onclick=\"convertToInteractive('df-247de417-221a-41c3-af53-f52d136bdec5')\"\n",
              "              title=\"Convert this dataframe to an interactive table.\"\n",
              "              style=\"display:none;\">\n",
              "        \n",
              "  <svg xmlns=\"http://www.w3.org/2000/svg\" height=\"24px\"viewBox=\"0 0 24 24\"\n",
              "       width=\"24px\">\n",
              "    <path d=\"M0 0h24v24H0V0z\" fill=\"none\"/>\n",
              "    <path d=\"M18.56 5.44l.94 2.06.94-2.06 2.06-.94-2.06-.94-.94-2.06-.94 2.06-2.06.94zm-11 1L8.5 8.5l.94-2.06 2.06-.94-2.06-.94L8.5 2.5l-.94 2.06-2.06.94zm10 10l.94 2.06.94-2.06 2.06-.94-2.06-.94-.94-2.06-.94 2.06-2.06.94z\"/><path d=\"M17.41 7.96l-1.37-1.37c-.4-.4-.92-.59-1.43-.59-.52 0-1.04.2-1.43.59L10.3 9.45l-7.72 7.72c-.78.78-.78 2.05 0 2.83L4 21.41c.39.39.9.59 1.41.59.51 0 1.02-.2 1.41-.59l7.78-7.78 2.81-2.81c.8-.78.8-2.07 0-2.86zM5.41 20L4 18.59l7.72-7.72 1.47 1.35L5.41 20z\"/>\n",
              "  </svg>\n",
              "      </button>\n",
              "      \n",
              "  <style>\n",
              "    .colab-df-container {\n",
              "      display:flex;\n",
              "      flex-wrap:wrap;\n",
              "      gap: 12px;\n",
              "    }\n",
              "\n",
              "    .colab-df-convert {\n",
              "      background-color: #E8F0FE;\n",
              "      border: none;\n",
              "      border-radius: 50%;\n",
              "      cursor: pointer;\n",
              "      display: none;\n",
              "      fill: #1967D2;\n",
              "      height: 32px;\n",
              "      padding: 0 0 0 0;\n",
              "      width: 32px;\n",
              "    }\n",
              "\n",
              "    .colab-df-convert:hover {\n",
              "      background-color: #E2EBFA;\n",
              "      box-shadow: 0px 1px 2px rgba(60, 64, 67, 0.3), 0px 1px 3px 1px rgba(60, 64, 67, 0.15);\n",
              "      fill: #174EA6;\n",
              "    }\n",
              "\n",
              "    [theme=dark] .colab-df-convert {\n",
              "      background-color: #3B4455;\n",
              "      fill: #D2E3FC;\n",
              "    }\n",
              "\n",
              "    [theme=dark] .colab-df-convert:hover {\n",
              "      background-color: #434B5C;\n",
              "      box-shadow: 0px 1px 3px 1px rgba(0, 0, 0, 0.15);\n",
              "      filter: drop-shadow(0px 1px 2px rgba(0, 0, 0, 0.3));\n",
              "      fill: #FFFFFF;\n",
              "    }\n",
              "  </style>\n",
              "\n",
              "      <script>\n",
              "        const buttonEl =\n",
              "          document.querySelector('#df-247de417-221a-41c3-af53-f52d136bdec5 button.colab-df-convert');\n",
              "        buttonEl.style.display =\n",
              "          google.colab.kernel.accessAllowed ? 'block' : 'none';\n",
              "\n",
              "        async function convertToInteractive(key) {\n",
              "          const element = document.querySelector('#df-247de417-221a-41c3-af53-f52d136bdec5');\n",
              "          const dataTable =\n",
              "            await google.colab.kernel.invokeFunction('convertToInteractive',\n",
              "                                                     [key], {});\n",
              "          if (!dataTable) return;\n",
              "\n",
              "          const docLinkHtml = 'Like what you see? Visit the ' +\n",
              "            '<a target=\"_blank\" href=https://colab.research.google.com/notebooks/data_table.ipynb>data table notebook</a>'\n",
              "            + ' to learn more about interactive tables.';\n",
              "          element.innerHTML = '';\n",
              "          dataTable['output_type'] = 'display_data';\n",
              "          await google.colab.output.renderOutput(dataTable, element);\n",
              "          const docLink = document.createElement('div');\n",
              "          docLink.innerHTML = docLinkHtml;\n",
              "          element.appendChild(docLink);\n",
              "        }\n",
              "      </script>\n",
              "    </div>\n",
              "  </div>\n",
              "  "
            ]
          },
          "metadata": {},
          "execution_count": 56
        }
      ]
    },
    {
      "cell_type": "markdown",
      "source": [
        "### Card Category\n",
        "\n",
        " Another ordinal categorical variable, we already know how to handle it."
      ],
      "metadata": {
        "id": "2yfmX7VQVlbp"
      }
    },
    {
      "cell_type": "code",
      "source": [
        "card_category_map = {\n",
        "    'Blue'     : 1,\n",
        "    'Silver'   : 2,\n",
        "    'Gold'     : 3,\n",
        "    'Platinum' : 4  \n",
        "}\n",
        "\n",
        "dataset['Card_Category'] = dataset['Card_Category'].map(card_category_map)\n",
        "dataset.head()"
      ],
      "metadata": {
        "colab": {
          "base_uri": "https://localhost:8080/",
          "height": 357
        },
        "id": "s_ETvzB8VcyX",
        "outputId": "c3824183-6957-47ee-cc53-c7c52eb90525"
      },
      "execution_count": null,
      "outputs": [
        {
          "output_type": "execute_result",
          "data": {
            "text/plain": [
              "   Customer_Id     Attrition_Flag  Customer_Age  Customer_Gender  \\\n",
              "0    768805383  Existing Customer            45                1   \n",
              "1    818770008  Existing Customer            49                0   \n",
              "2    713982108  Existing Customer            51                1   \n",
              "3    769911858  Existing Customer            40                0   \n",
              "4    709106358  Existing Customer            40                1   \n",
              "\n",
              "   Dependent_Count  Education_Level Marital_Status  Income_Category  \\\n",
              "0                3                2        Married                3   \n",
              "1                5                4         Single                1   \n",
              "2                3                4        Married                4   \n",
              "3                4                2        Unknown                1   \n",
              "4                3                1        Married                3   \n",
              "\n",
              "   Card_Category  Months_on_book  Total_Relationship_Count  \\\n",
              "0              1              39                         5   \n",
              "1              1              44                         6   \n",
              "2              1              36                         4   \n",
              "3              1              34                         3   \n",
              "4              1              21                         5   \n",
              "\n",
              "   Months_Inactive_12_mon  Contacts_Count_12_mon  Credit_Limit  \\\n",
              "0                       1                      3       12691.0   \n",
              "1                       1                      2        8256.0   \n",
              "2                       1                      0        3418.0   \n",
              "3                       4                      1        3313.0   \n",
              "4                       1                      0        4716.0   \n",
              "\n",
              "   Total_Revolving_Bal  Avg_Open_To_Buy  Total_Trans_Amt  Total_Trans_Ct  \\\n",
              "0                  777          11914.0             1144              42   \n",
              "1                  864           7392.0             1291              33   \n",
              "2                    0           3418.0             1887              20   \n",
              "3                 2517            796.0             1171              20   \n",
              "4                    0           4716.0              816              28   \n",
              "\n",
              "   Avg_Utilization_Ratio  \n",
              "0                  0.061  \n",
              "1                  0.105  \n",
              "2                  0.000  \n",
              "3                  0.760  \n",
              "4                  0.000  "
            ],
            "text/html": [
              "\n",
              "  <div id=\"df-002a58f6-6e3d-4d80-a78c-5d3bee05c53f\">\n",
              "    <div class=\"colab-df-container\">\n",
              "      <div>\n",
              "<style scoped>\n",
              "    .dataframe tbody tr th:only-of-type {\n",
              "        vertical-align: middle;\n",
              "    }\n",
              "\n",
              "    .dataframe tbody tr th {\n",
              "        vertical-align: top;\n",
              "    }\n",
              "\n",
              "    .dataframe thead th {\n",
              "        text-align: right;\n",
              "    }\n",
              "</style>\n",
              "<table border=\"1\" class=\"dataframe\">\n",
              "  <thead>\n",
              "    <tr style=\"text-align: right;\">\n",
              "      <th></th>\n",
              "      <th>Customer_Id</th>\n",
              "      <th>Attrition_Flag</th>\n",
              "      <th>Customer_Age</th>\n",
              "      <th>Customer_Gender</th>\n",
              "      <th>Dependent_Count</th>\n",
              "      <th>Education_Level</th>\n",
              "      <th>Marital_Status</th>\n",
              "      <th>Income_Category</th>\n",
              "      <th>Card_Category</th>\n",
              "      <th>Months_on_book</th>\n",
              "      <th>Total_Relationship_Count</th>\n",
              "      <th>Months_Inactive_12_mon</th>\n",
              "      <th>Contacts_Count_12_mon</th>\n",
              "      <th>Credit_Limit</th>\n",
              "      <th>Total_Revolving_Bal</th>\n",
              "      <th>Avg_Open_To_Buy</th>\n",
              "      <th>Total_Trans_Amt</th>\n",
              "      <th>Total_Trans_Ct</th>\n",
              "      <th>Avg_Utilization_Ratio</th>\n",
              "    </tr>\n",
              "  </thead>\n",
              "  <tbody>\n",
              "    <tr>\n",
              "      <th>0</th>\n",
              "      <td>768805383</td>\n",
              "      <td>Existing Customer</td>\n",
              "      <td>45</td>\n",
              "      <td>1</td>\n",
              "      <td>3</td>\n",
              "      <td>2</td>\n",
              "      <td>Married</td>\n",
              "      <td>3</td>\n",
              "      <td>1</td>\n",
              "      <td>39</td>\n",
              "      <td>5</td>\n",
              "      <td>1</td>\n",
              "      <td>3</td>\n",
              "      <td>12691.0</td>\n",
              "      <td>777</td>\n",
              "      <td>11914.0</td>\n",
              "      <td>1144</td>\n",
              "      <td>42</td>\n",
              "      <td>0.061</td>\n",
              "    </tr>\n",
              "    <tr>\n",
              "      <th>1</th>\n",
              "      <td>818770008</td>\n",
              "      <td>Existing Customer</td>\n",
              "      <td>49</td>\n",
              "      <td>0</td>\n",
              "      <td>5</td>\n",
              "      <td>4</td>\n",
              "      <td>Single</td>\n",
              "      <td>1</td>\n",
              "      <td>1</td>\n",
              "      <td>44</td>\n",
              "      <td>6</td>\n",
              "      <td>1</td>\n",
              "      <td>2</td>\n",
              "      <td>8256.0</td>\n",
              "      <td>864</td>\n",
              "      <td>7392.0</td>\n",
              "      <td>1291</td>\n",
              "      <td>33</td>\n",
              "      <td>0.105</td>\n",
              "    </tr>\n",
              "    <tr>\n",
              "      <th>2</th>\n",
              "      <td>713982108</td>\n",
              "      <td>Existing Customer</td>\n",
              "      <td>51</td>\n",
              "      <td>1</td>\n",
              "      <td>3</td>\n",
              "      <td>4</td>\n",
              "      <td>Married</td>\n",
              "      <td>4</td>\n",
              "      <td>1</td>\n",
              "      <td>36</td>\n",
              "      <td>4</td>\n",
              "      <td>1</td>\n",
              "      <td>0</td>\n",
              "      <td>3418.0</td>\n",
              "      <td>0</td>\n",
              "      <td>3418.0</td>\n",
              "      <td>1887</td>\n",
              "      <td>20</td>\n",
              "      <td>0.000</td>\n",
              "    </tr>\n",
              "    <tr>\n",
              "      <th>3</th>\n",
              "      <td>769911858</td>\n",
              "      <td>Existing Customer</td>\n",
              "      <td>40</td>\n",
              "      <td>0</td>\n",
              "      <td>4</td>\n",
              "      <td>2</td>\n",
              "      <td>Unknown</td>\n",
              "      <td>1</td>\n",
              "      <td>1</td>\n",
              "      <td>34</td>\n",
              "      <td>3</td>\n",
              "      <td>4</td>\n",
              "      <td>1</td>\n",
              "      <td>3313.0</td>\n",
              "      <td>2517</td>\n",
              "      <td>796.0</td>\n",
              "      <td>1171</td>\n",
              "      <td>20</td>\n",
              "      <td>0.760</td>\n",
              "    </tr>\n",
              "    <tr>\n",
              "      <th>4</th>\n",
              "      <td>709106358</td>\n",
              "      <td>Existing Customer</td>\n",
              "      <td>40</td>\n",
              "      <td>1</td>\n",
              "      <td>3</td>\n",
              "      <td>1</td>\n",
              "      <td>Married</td>\n",
              "      <td>3</td>\n",
              "      <td>1</td>\n",
              "      <td>21</td>\n",
              "      <td>5</td>\n",
              "      <td>1</td>\n",
              "      <td>0</td>\n",
              "      <td>4716.0</td>\n",
              "      <td>0</td>\n",
              "      <td>4716.0</td>\n",
              "      <td>816</td>\n",
              "      <td>28</td>\n",
              "      <td>0.000</td>\n",
              "    </tr>\n",
              "  </tbody>\n",
              "</table>\n",
              "</div>\n",
              "      <button class=\"colab-df-convert\" onclick=\"convertToInteractive('df-002a58f6-6e3d-4d80-a78c-5d3bee05c53f')\"\n",
              "              title=\"Convert this dataframe to an interactive table.\"\n",
              "              style=\"display:none;\">\n",
              "        \n",
              "  <svg xmlns=\"http://www.w3.org/2000/svg\" height=\"24px\"viewBox=\"0 0 24 24\"\n",
              "       width=\"24px\">\n",
              "    <path d=\"M0 0h24v24H0V0z\" fill=\"none\"/>\n",
              "    <path d=\"M18.56 5.44l.94 2.06.94-2.06 2.06-.94-2.06-.94-.94-2.06-.94 2.06-2.06.94zm-11 1L8.5 8.5l.94-2.06 2.06-.94-2.06-.94L8.5 2.5l-.94 2.06-2.06.94zm10 10l.94 2.06.94-2.06 2.06-.94-2.06-.94-.94-2.06-.94 2.06-2.06.94z\"/><path d=\"M17.41 7.96l-1.37-1.37c-.4-.4-.92-.59-1.43-.59-.52 0-1.04.2-1.43.59L10.3 9.45l-7.72 7.72c-.78.78-.78 2.05 0 2.83L4 21.41c.39.39.9.59 1.41.59.51 0 1.02-.2 1.41-.59l7.78-7.78 2.81-2.81c.8-.78.8-2.07 0-2.86zM5.41 20L4 18.59l7.72-7.72 1.47 1.35L5.41 20z\"/>\n",
              "  </svg>\n",
              "      </button>\n",
              "      \n",
              "  <style>\n",
              "    .colab-df-container {\n",
              "      display:flex;\n",
              "      flex-wrap:wrap;\n",
              "      gap: 12px;\n",
              "    }\n",
              "\n",
              "    .colab-df-convert {\n",
              "      background-color: #E8F0FE;\n",
              "      border: none;\n",
              "      border-radius: 50%;\n",
              "      cursor: pointer;\n",
              "      display: none;\n",
              "      fill: #1967D2;\n",
              "      height: 32px;\n",
              "      padding: 0 0 0 0;\n",
              "      width: 32px;\n",
              "    }\n",
              "\n",
              "    .colab-df-convert:hover {\n",
              "      background-color: #E2EBFA;\n",
              "      box-shadow: 0px 1px 2px rgba(60, 64, 67, 0.3), 0px 1px 3px 1px rgba(60, 64, 67, 0.15);\n",
              "      fill: #174EA6;\n",
              "    }\n",
              "\n",
              "    [theme=dark] .colab-df-convert {\n",
              "      background-color: #3B4455;\n",
              "      fill: #D2E3FC;\n",
              "    }\n",
              "\n",
              "    [theme=dark] .colab-df-convert:hover {\n",
              "      background-color: #434B5C;\n",
              "      box-shadow: 0px 1px 3px 1px rgba(0, 0, 0, 0.15);\n",
              "      filter: drop-shadow(0px 1px 2px rgba(0, 0, 0, 0.3));\n",
              "      fill: #FFFFFF;\n",
              "    }\n",
              "  </style>\n",
              "\n",
              "      <script>\n",
              "        const buttonEl =\n",
              "          document.querySelector('#df-002a58f6-6e3d-4d80-a78c-5d3bee05c53f button.colab-df-convert');\n",
              "        buttonEl.style.display =\n",
              "          google.colab.kernel.accessAllowed ? 'block' : 'none';\n",
              "\n",
              "        async function convertToInteractive(key) {\n",
              "          const element = document.querySelector('#df-002a58f6-6e3d-4d80-a78c-5d3bee05c53f');\n",
              "          const dataTable =\n",
              "            await google.colab.kernel.invokeFunction('convertToInteractive',\n",
              "                                                     [key], {});\n",
              "          if (!dataTable) return;\n",
              "\n",
              "          const docLinkHtml = 'Like what you see? Visit the ' +\n",
              "            '<a target=\"_blank\" href=https://colab.research.google.com/notebooks/data_table.ipynb>data table notebook</a>'\n",
              "            + ' to learn more about interactive tables.';\n",
              "          element.innerHTML = '';\n",
              "          dataTable['output_type'] = 'display_data';\n",
              "          await google.colab.output.renderOutput(dataTable, element);\n",
              "          const docLink = document.createElement('div');\n",
              "          docLink.innerHTML = docLinkHtml;\n",
              "          element.appendChild(docLink);\n",
              "        }\n",
              "      </script>\n",
              "    </div>\n",
              "  </div>\n",
              "  "
            ]
          },
          "metadata": {},
          "execution_count": 57
        }
      ]
    },
    {
      "cell_type": "markdown",
      "source": [
        "### Marital Status\n",
        "\n",
        "The marital status is diferent. We don't have an order, it is a nominal categorical variable. So we will use the OneHotEncoder to fit it into a numerical feature so we can use this on our model."
      ],
      "metadata": {
        "id": "k2IdMdMaXIIa"
      }
    },
    {
      "cell_type": "code",
      "source": [
        "ohe = OneHotEncoder()\n",
        "\n",
        "ohe_transformed = pd.DataFrame(ohe.fit_transform(dataset[['Marital_Status']]).toarray())\n",
        "\n",
        "dataset = dataset.join(ohe_transformed)"
      ],
      "metadata": {
        "id": "s_bj97_2XEy7"
      },
      "execution_count": null,
      "outputs": []
    },
    {
      "cell_type": "code",
      "source": [
        "dataset.rename(columns = {0: 'Marital_Status_0', 1: 'Marital_Status_1', 2: 'Marital_Status_2', 3: 'Marital_Status_3'}, inplace = True)\n",
        "dataset.head()"
      ],
      "metadata": {
        "colab": {
          "base_uri": "https://localhost:8080/",
          "height": 386
        },
        "id": "zNzJH0rnZlW4",
        "outputId": "1fb7bc94-e64b-4e18-9801-9a8a17b8b869"
      },
      "execution_count": null,
      "outputs": [
        {
          "output_type": "execute_result",
          "data": {
            "text/plain": [
              "   Customer_Id     Attrition_Flag  Customer_Age  Customer_Gender  \\\n",
              "0    768805383  Existing Customer            45                1   \n",
              "1    818770008  Existing Customer            49                0   \n",
              "2    713982108  Existing Customer            51                1   \n",
              "3    769911858  Existing Customer            40                0   \n",
              "4    709106358  Existing Customer            40                1   \n",
              "\n",
              "   Dependent_Count  Education_Level Marital_Status  Income_Category  \\\n",
              "0                3                2        Married                3   \n",
              "1                5                4         Single                1   \n",
              "2                3                4        Married                4   \n",
              "3                4                2        Unknown                1   \n",
              "4                3                1        Married                3   \n",
              "\n",
              "   Card_Category  Months_on_book  ...  Credit_Limit  Total_Revolving_Bal  \\\n",
              "0              1              39  ...       12691.0                  777   \n",
              "1              1              44  ...        8256.0                  864   \n",
              "2              1              36  ...        3418.0                    0   \n",
              "3              1              34  ...        3313.0                 2517   \n",
              "4              1              21  ...        4716.0                    0   \n",
              "\n",
              "   Avg_Open_To_Buy  Total_Trans_Amt  Total_Trans_Ct  Avg_Utilization_Ratio  \\\n",
              "0          11914.0             1144              42                  0.061   \n",
              "1           7392.0             1291              33                  0.105   \n",
              "2           3418.0             1887              20                  0.000   \n",
              "3            796.0             1171              20                  0.760   \n",
              "4           4716.0              816              28                  0.000   \n",
              "\n",
              "   Marital_Status_0  Marital_Status_1  Marital_Status_2  Marital_Status_3  \n",
              "0               0.0               1.0               0.0               0.0  \n",
              "1               0.0               0.0               1.0               0.0  \n",
              "2               0.0               1.0               0.0               0.0  \n",
              "3               0.0               0.0               0.0               1.0  \n",
              "4               0.0               1.0               0.0               0.0  \n",
              "\n",
              "[5 rows x 23 columns]"
            ],
            "text/html": [
              "\n",
              "  <div id=\"df-4af826ab-eb84-4d14-ba03-5060acae43d2\">\n",
              "    <div class=\"colab-df-container\">\n",
              "      <div>\n",
              "<style scoped>\n",
              "    .dataframe tbody tr th:only-of-type {\n",
              "        vertical-align: middle;\n",
              "    }\n",
              "\n",
              "    .dataframe tbody tr th {\n",
              "        vertical-align: top;\n",
              "    }\n",
              "\n",
              "    .dataframe thead th {\n",
              "        text-align: right;\n",
              "    }\n",
              "</style>\n",
              "<table border=\"1\" class=\"dataframe\">\n",
              "  <thead>\n",
              "    <tr style=\"text-align: right;\">\n",
              "      <th></th>\n",
              "      <th>Customer_Id</th>\n",
              "      <th>Attrition_Flag</th>\n",
              "      <th>Customer_Age</th>\n",
              "      <th>Customer_Gender</th>\n",
              "      <th>Dependent_Count</th>\n",
              "      <th>Education_Level</th>\n",
              "      <th>Marital_Status</th>\n",
              "      <th>Income_Category</th>\n",
              "      <th>Card_Category</th>\n",
              "      <th>Months_on_book</th>\n",
              "      <th>...</th>\n",
              "      <th>Credit_Limit</th>\n",
              "      <th>Total_Revolving_Bal</th>\n",
              "      <th>Avg_Open_To_Buy</th>\n",
              "      <th>Total_Trans_Amt</th>\n",
              "      <th>Total_Trans_Ct</th>\n",
              "      <th>Avg_Utilization_Ratio</th>\n",
              "      <th>Marital_Status_0</th>\n",
              "      <th>Marital_Status_1</th>\n",
              "      <th>Marital_Status_2</th>\n",
              "      <th>Marital_Status_3</th>\n",
              "    </tr>\n",
              "  </thead>\n",
              "  <tbody>\n",
              "    <tr>\n",
              "      <th>0</th>\n",
              "      <td>768805383</td>\n",
              "      <td>Existing Customer</td>\n",
              "      <td>45</td>\n",
              "      <td>1</td>\n",
              "      <td>3</td>\n",
              "      <td>2</td>\n",
              "      <td>Married</td>\n",
              "      <td>3</td>\n",
              "      <td>1</td>\n",
              "      <td>39</td>\n",
              "      <td>...</td>\n",
              "      <td>12691.0</td>\n",
              "      <td>777</td>\n",
              "      <td>11914.0</td>\n",
              "      <td>1144</td>\n",
              "      <td>42</td>\n",
              "      <td>0.061</td>\n",
              "      <td>0.0</td>\n",
              "      <td>1.0</td>\n",
              "      <td>0.0</td>\n",
              "      <td>0.0</td>\n",
              "    </tr>\n",
              "    <tr>\n",
              "      <th>1</th>\n",
              "      <td>818770008</td>\n",
              "      <td>Existing Customer</td>\n",
              "      <td>49</td>\n",
              "      <td>0</td>\n",
              "      <td>5</td>\n",
              "      <td>4</td>\n",
              "      <td>Single</td>\n",
              "      <td>1</td>\n",
              "      <td>1</td>\n",
              "      <td>44</td>\n",
              "      <td>...</td>\n",
              "      <td>8256.0</td>\n",
              "      <td>864</td>\n",
              "      <td>7392.0</td>\n",
              "      <td>1291</td>\n",
              "      <td>33</td>\n",
              "      <td>0.105</td>\n",
              "      <td>0.0</td>\n",
              "      <td>0.0</td>\n",
              "      <td>1.0</td>\n",
              "      <td>0.0</td>\n",
              "    </tr>\n",
              "    <tr>\n",
              "      <th>2</th>\n",
              "      <td>713982108</td>\n",
              "      <td>Existing Customer</td>\n",
              "      <td>51</td>\n",
              "      <td>1</td>\n",
              "      <td>3</td>\n",
              "      <td>4</td>\n",
              "      <td>Married</td>\n",
              "      <td>4</td>\n",
              "      <td>1</td>\n",
              "      <td>36</td>\n",
              "      <td>...</td>\n",
              "      <td>3418.0</td>\n",
              "      <td>0</td>\n",
              "      <td>3418.0</td>\n",
              "      <td>1887</td>\n",
              "      <td>20</td>\n",
              "      <td>0.000</td>\n",
              "      <td>0.0</td>\n",
              "      <td>1.0</td>\n",
              "      <td>0.0</td>\n",
              "      <td>0.0</td>\n",
              "    </tr>\n",
              "    <tr>\n",
              "      <th>3</th>\n",
              "      <td>769911858</td>\n",
              "      <td>Existing Customer</td>\n",
              "      <td>40</td>\n",
              "      <td>0</td>\n",
              "      <td>4</td>\n",
              "      <td>2</td>\n",
              "      <td>Unknown</td>\n",
              "      <td>1</td>\n",
              "      <td>1</td>\n",
              "      <td>34</td>\n",
              "      <td>...</td>\n",
              "      <td>3313.0</td>\n",
              "      <td>2517</td>\n",
              "      <td>796.0</td>\n",
              "      <td>1171</td>\n",
              "      <td>20</td>\n",
              "      <td>0.760</td>\n",
              "      <td>0.0</td>\n",
              "      <td>0.0</td>\n",
              "      <td>0.0</td>\n",
              "      <td>1.0</td>\n",
              "    </tr>\n",
              "    <tr>\n",
              "      <th>4</th>\n",
              "      <td>709106358</td>\n",
              "      <td>Existing Customer</td>\n",
              "      <td>40</td>\n",
              "      <td>1</td>\n",
              "      <td>3</td>\n",
              "      <td>1</td>\n",
              "      <td>Married</td>\n",
              "      <td>3</td>\n",
              "      <td>1</td>\n",
              "      <td>21</td>\n",
              "      <td>...</td>\n",
              "      <td>4716.0</td>\n",
              "      <td>0</td>\n",
              "      <td>4716.0</td>\n",
              "      <td>816</td>\n",
              "      <td>28</td>\n",
              "      <td>0.000</td>\n",
              "      <td>0.0</td>\n",
              "      <td>1.0</td>\n",
              "      <td>0.0</td>\n",
              "      <td>0.0</td>\n",
              "    </tr>\n",
              "  </tbody>\n",
              "</table>\n",
              "<p>5 rows × 23 columns</p>\n",
              "</div>\n",
              "      <button class=\"colab-df-convert\" onclick=\"convertToInteractive('df-4af826ab-eb84-4d14-ba03-5060acae43d2')\"\n",
              "              title=\"Convert this dataframe to an interactive table.\"\n",
              "              style=\"display:none;\">\n",
              "        \n",
              "  <svg xmlns=\"http://www.w3.org/2000/svg\" height=\"24px\"viewBox=\"0 0 24 24\"\n",
              "       width=\"24px\">\n",
              "    <path d=\"M0 0h24v24H0V0z\" fill=\"none\"/>\n",
              "    <path d=\"M18.56 5.44l.94 2.06.94-2.06 2.06-.94-2.06-.94-.94-2.06-.94 2.06-2.06.94zm-11 1L8.5 8.5l.94-2.06 2.06-.94-2.06-.94L8.5 2.5l-.94 2.06-2.06.94zm10 10l.94 2.06.94-2.06 2.06-.94-2.06-.94-.94-2.06-.94 2.06-2.06.94z\"/><path d=\"M17.41 7.96l-1.37-1.37c-.4-.4-.92-.59-1.43-.59-.52 0-1.04.2-1.43.59L10.3 9.45l-7.72 7.72c-.78.78-.78 2.05 0 2.83L4 21.41c.39.39.9.59 1.41.59.51 0 1.02-.2 1.41-.59l7.78-7.78 2.81-2.81c.8-.78.8-2.07 0-2.86zM5.41 20L4 18.59l7.72-7.72 1.47 1.35L5.41 20z\"/>\n",
              "  </svg>\n",
              "      </button>\n",
              "      \n",
              "  <style>\n",
              "    .colab-df-container {\n",
              "      display:flex;\n",
              "      flex-wrap:wrap;\n",
              "      gap: 12px;\n",
              "    }\n",
              "\n",
              "    .colab-df-convert {\n",
              "      background-color: #E8F0FE;\n",
              "      border: none;\n",
              "      border-radius: 50%;\n",
              "      cursor: pointer;\n",
              "      display: none;\n",
              "      fill: #1967D2;\n",
              "      height: 32px;\n",
              "      padding: 0 0 0 0;\n",
              "      width: 32px;\n",
              "    }\n",
              "\n",
              "    .colab-df-convert:hover {\n",
              "      background-color: #E2EBFA;\n",
              "      box-shadow: 0px 1px 2px rgba(60, 64, 67, 0.3), 0px 1px 3px 1px rgba(60, 64, 67, 0.15);\n",
              "      fill: #174EA6;\n",
              "    }\n",
              "\n",
              "    [theme=dark] .colab-df-convert {\n",
              "      background-color: #3B4455;\n",
              "      fill: #D2E3FC;\n",
              "    }\n",
              "\n",
              "    [theme=dark] .colab-df-convert:hover {\n",
              "      background-color: #434B5C;\n",
              "      box-shadow: 0px 1px 3px 1px rgba(0, 0, 0, 0.15);\n",
              "      filter: drop-shadow(0px 1px 2px rgba(0, 0, 0, 0.3));\n",
              "      fill: #FFFFFF;\n",
              "    }\n",
              "  </style>\n",
              "\n",
              "      <script>\n",
              "        const buttonEl =\n",
              "          document.querySelector('#df-4af826ab-eb84-4d14-ba03-5060acae43d2 button.colab-df-convert');\n",
              "        buttonEl.style.display =\n",
              "          google.colab.kernel.accessAllowed ? 'block' : 'none';\n",
              "\n",
              "        async function convertToInteractive(key) {\n",
              "          const element = document.querySelector('#df-4af826ab-eb84-4d14-ba03-5060acae43d2');\n",
              "          const dataTable =\n",
              "            await google.colab.kernel.invokeFunction('convertToInteractive',\n",
              "                                                     [key], {});\n",
              "          if (!dataTable) return;\n",
              "\n",
              "          const docLinkHtml = 'Like what you see? Visit the ' +\n",
              "            '<a target=\"_blank\" href=https://colab.research.google.com/notebooks/data_table.ipynb>data table notebook</a>'\n",
              "            + ' to learn more about interactive tables.';\n",
              "          element.innerHTML = '';\n",
              "          dataTable['output_type'] = 'display_data';\n",
              "          await google.colab.output.renderOutput(dataTable, element);\n",
              "          const docLink = document.createElement('div');\n",
              "          docLink.innerHTML = docLinkHtml;\n",
              "          element.appendChild(docLink);\n",
              "        }\n",
              "      </script>\n",
              "    </div>\n",
              "  </div>\n",
              "  "
            ]
          },
          "metadata": {},
          "execution_count": 59
        }
      ]
    },
    {
      "cell_type": "markdown",
      "source": [
        "### Attrition Flag\n",
        "\n",
        " This columns is to say if a customer had churned or not. Sice we want to categorize the customers in card categorys there is no reazon to we keep the clients that had churned. So we will ignore this column. In another project we will use this feature to develop a Decision Tree Estimator to estimate the chance of a client churn."
      ],
      "metadata": {
        "id": "C4vG9FDVgOa9"
      }
    },
    {
      "cell_type": "code",
      "source": [
        "dataset.query(\" Attrition_Flag == 'Existing Customer'\", inplace = True)"
      ],
      "metadata": {
        "id": "tKwNqMkas68H"
      },
      "execution_count": null,
      "outputs": []
    },
    {
      "cell_type": "markdown",
      "source": [
        "## Numerical Categories "
      ],
      "metadata": {
        "id": "AOizRvFIlHwN"
      }
    },
    {
      "cell_type": "markdown",
      "source": [
        "Now we will trate all the numerical categories with StandarEscaler "
      ],
      "metadata": {
        "id": "f0BH4Nm2lR90"
      }
    },
    {
      "cell_type": "code",
      "source": [
        "from sklearn.preprocessing import StandardScaler"
      ],
      "metadata": {
        "id": "hZX_HLKvlYs2"
      },
      "execution_count": null,
      "outputs": []
    },
    {
      "cell_type": "markdown",
      "source": [
        "To be more easy to read I wll do all the transformations in only one block. "
      ],
      "metadata": {
        "id": "mxReFzKXlrjy"
      }
    },
    {
      "cell_type": "code",
      "source": [
        "scaler = StandardScaler().fit(dataset[['Customer_Age']])\n",
        "dataset['Customer_Age'] = scaler.transform(dataset[['Customer_Age']])"
      ],
      "metadata": {
        "id": "gxHVPpj5lfHN"
      },
      "execution_count": null,
      "outputs": []
    },
    {
      "cell_type": "code",
      "source": [
        "scaler = StandardScaler().fit(dataset[['Dependent_Count']])\n",
        "dataset['Dependent_Count'] = scaler.transform(dataset[['Dependent_Count']])"
      ],
      "metadata": {
        "id": "uYM6mxmmomsQ"
      },
      "execution_count": null,
      "outputs": []
    },
    {
      "cell_type": "code",
      "source": [
        "scaler = StandardScaler().fit(dataset[['Months_on_book']])\n",
        "dataset['Months_on_book'] = scaler.transform(dataset[['Months_on_book']])"
      ],
      "metadata": {
        "id": "CZkQRKaxoxtu"
      },
      "execution_count": null,
      "outputs": []
    },
    {
      "cell_type": "code",
      "source": [
        "scaler = StandardScaler().fit(dataset[['Total_Relationship_Count']])\n",
        "dataset['Total_Relationship_Count'] = scaler.transform(dataset[['Total_Relationship_Count']])"
      ],
      "metadata": {
        "id": "b6aYdr39o5xV"
      },
      "execution_count": null,
      "outputs": []
    },
    {
      "cell_type": "code",
      "source": [
        "scaler = StandardScaler().fit(dataset[['Months_Inactive_12_mon']])\n",
        "dataset['Months_Inactive_12_mon'] = scaler.transform(dataset[['Months_Inactive_12_mon']])"
      ],
      "metadata": {
        "id": "9qHg-ypFpCzs"
      },
      "execution_count": null,
      "outputs": []
    },
    {
      "cell_type": "code",
      "source": [
        "scaler = StandardScaler().fit(dataset[['Contacts_Count_12_mon']])\n",
        "dataset['Contacts_Count_12_mon'] = scaler.transform(dataset[['Contacts_Count_12_mon']])"
      ],
      "metadata": {
        "id": "KTBei4WPpRMQ"
      },
      "execution_count": null,
      "outputs": []
    },
    {
      "cell_type": "code",
      "source": [
        "scaler = StandardScaler().fit(dataset[['Credit_Limit']])\n",
        "dataset['Credit_Limit'] = scaler.transform(dataset[['Credit_Limit']])"
      ],
      "metadata": {
        "id": "GAiQlGl_qcpj"
      },
      "execution_count": null,
      "outputs": []
    },
    {
      "cell_type": "code",
      "source": [
        "scaler = StandardScaler().fit(dataset[['Total_Revolving_Bal']])\n",
        "dataset['Total_Revolving_Bal'] = scaler.transform(dataset[['Total_Revolving_Bal']])"
      ],
      "metadata": {
        "id": "EJbUjz6aqkaz"
      },
      "execution_count": null,
      "outputs": []
    },
    {
      "cell_type": "code",
      "source": [
        "scaler = StandardScaler().fit(dataset[['Avg_Open_To_Buy']])\n",
        "dataset['Avg_Open_To_Buy'] = scaler.transform(dataset[['Avg_Open_To_Buy']])"
      ],
      "metadata": {
        "id": "dMcnK-F-qrFl"
      },
      "execution_count": null,
      "outputs": []
    },
    {
      "cell_type": "code",
      "source": [
        "scaler = StandardScaler().fit(dataset[['Total_Trans_Amt']])\n",
        "dataset['Total_Trans_Amt'] = scaler.transform(dataset[['Total_Trans_Amt']])"
      ],
      "metadata": {
        "id": "YmS4sn4_qzM0"
      },
      "execution_count": null,
      "outputs": []
    },
    {
      "cell_type": "code",
      "source": [
        "scaler = StandardScaler().fit(dataset[['Total_Trans_Ct']])\n",
        "dataset['Total_Trans_Ct'] = scaler.transform(dataset[['Total_Trans_Ct']])"
      ],
      "metadata": {
        "id": "D8tNeDD9q6c3"
      },
      "execution_count": null,
      "outputs": []
    },
    {
      "cell_type": "code",
      "source": [
        "scaler = StandardScaler().fit(dataset[['Avg_Utilization_Ratio']])\n",
        "dataset['Avg_Utilization_Ratio'] = scaler.transform(dataset[['Avg_Utilization_Ratio']])"
      ],
      "metadata": {
        "id": "ztcUriRrrBk1"
      },
      "execution_count": null,
      "outputs": []
    },
    {
      "cell_type": "markdown",
      "source": [
        "# KNN Estimator\n",
        "\n",
        "Now we had our dataset prepared. We can start to develop our KNN estimator. First we will drop the columns we are not using: Customer_Id, Attrition_Flag and Marital_Status. Them we will separete our features columns from the target column (Card_Category), and after that we will split for train and test. "
      ],
      "metadata": {
        "id": "sdPxa8Ysg63e"
      }
    },
    {
      "cell_type": "code",
      "source": [
        "features_list = ['Customer_Age',                \n",
        "                 'Customer_Gender',             \n",
        "                 'Dependent_Count',            \n",
        "                 'Education_Level',            \n",
        "                 'Marital_Status_0',\n",
        "                 'Marital_Status_1',\n",
        "                 'Marital_Status_2',\n",
        "                 'Marital_Status_3',         \n",
        "                 'Income_Category',            \n",
        "                 'Months_on_book',             \n",
        "                 'Total_Relationship_Count',   \n",
        "                 'Months_Inactive_12_mon',     \n",
        "                 'Contacts_Count_12_mon',      \n",
        "                 'Credit_Limit',               \n",
        "                 'Total_Revolving_Bal',        \n",
        "                 'Avg_Open_To_Buy',            \n",
        "                 'Total_Trans_Amt',            \n",
        "                 'Total_Trans_Ct',             \n",
        "                 'Avg_Utilization_Ratio']      \n",
        "            \n",
        "features = dataset[features_list]\n",
        "features.head()"
      ],
      "metadata": {
        "colab": {
          "base_uri": "https://localhost:8080/",
          "height": 270
        },
        "id": "JjHVmwxvdvpl",
        "outputId": "283d4b59-2a1f-4301-c72f-3865f77059ff"
      },
      "execution_count": null,
      "outputs": [
        {
          "output_type": "execute_result",
          "data": {
            "text/plain": [
              "   Customer_Age  Customer_Gender  Dependent_Count  Education_Level  \\\n",
              "0     -0.156190                1         0.509985                2   \n",
              "1      0.338818                0         2.044726                4   \n",
              "2      0.586322                1         0.509985                4   \n",
              "3     -0.774949                0         1.277356                2   \n",
              "4     -0.774949                1         0.509985                1   \n",
              "\n",
              "   Marital_Status_0  Marital_Status_1  Marital_Status_2  Marital_Status_3  \\\n",
              "0               0.0               1.0               0.0               0.0   \n",
              "1               0.0               0.0               1.0               0.0   \n",
              "2               0.0               1.0               0.0               0.0   \n",
              "3               0.0               0.0               0.0               1.0   \n",
              "4               0.0               1.0               0.0               0.0   \n",
              "\n",
              "   Income_Category  Months_on_book  Total_Relationship_Count  \\\n",
              "0                3        0.388889                  0.709949   \n",
              "1                1        1.012227                  1.364031   \n",
              "2                4        0.014887                  0.055866   \n",
              "3                1       -0.234448                 -0.598216   \n",
              "4                3       -1.855126                  0.709949   \n",
              "\n",
              "   Months_Inactive_12_mon  Contacts_Count_12_mon  Credit_Limit  \\\n",
              "0               -1.252865               0.595213      0.436364   \n",
              "1               -1.252865              -0.329538     -0.051833   \n",
              "2               -1.252865              -2.179040     -0.584393   \n",
              "3                1.697912              -1.254289     -0.595951   \n",
              "4               -1.252865              -2.179040     -0.441511   \n",
              "\n",
              "   Total_Revolving_Bal  Avg_Open_To_Buy  Total_Trans_Amt  Total_Trans_Ct  \\\n",
              "0            -0.632973         0.489013        -0.999456       -1.163844   \n",
              "1            -0.518152        -0.008614        -0.957606       -1.556554   \n",
              "2            -1.658444        -0.445935        -0.787930       -2.123802   \n",
              "3             1.663448        -0.734475        -0.991770       -2.123802   \n",
              "4            -1.658444        -0.303096        -1.092835       -1.774727   \n",
              "\n",
              "   Avg_Utilization_Ratio  \n",
              "0              -0.863732  \n",
              "1              -0.702295  \n",
              "2              -1.087543  \n",
              "3               1.700918  \n",
              "4              -1.087543  "
            ],
            "text/html": [
              "\n",
              "  <div id=\"df-7803f0f8-a169-4620-a715-339686a48886\">\n",
              "    <div class=\"colab-df-container\">\n",
              "      <div>\n",
              "<style scoped>\n",
              "    .dataframe tbody tr th:only-of-type {\n",
              "        vertical-align: middle;\n",
              "    }\n",
              "\n",
              "    .dataframe tbody tr th {\n",
              "        vertical-align: top;\n",
              "    }\n",
              "\n",
              "    .dataframe thead th {\n",
              "        text-align: right;\n",
              "    }\n",
              "</style>\n",
              "<table border=\"1\" class=\"dataframe\">\n",
              "  <thead>\n",
              "    <tr style=\"text-align: right;\">\n",
              "      <th></th>\n",
              "      <th>Customer_Age</th>\n",
              "      <th>Customer_Gender</th>\n",
              "      <th>Dependent_Count</th>\n",
              "      <th>Education_Level</th>\n",
              "      <th>Marital_Status_0</th>\n",
              "      <th>Marital_Status_1</th>\n",
              "      <th>Marital_Status_2</th>\n",
              "      <th>Marital_Status_3</th>\n",
              "      <th>Income_Category</th>\n",
              "      <th>Months_on_book</th>\n",
              "      <th>Total_Relationship_Count</th>\n",
              "      <th>Months_Inactive_12_mon</th>\n",
              "      <th>Contacts_Count_12_mon</th>\n",
              "      <th>Credit_Limit</th>\n",
              "      <th>Total_Revolving_Bal</th>\n",
              "      <th>Avg_Open_To_Buy</th>\n",
              "      <th>Total_Trans_Amt</th>\n",
              "      <th>Total_Trans_Ct</th>\n",
              "      <th>Avg_Utilization_Ratio</th>\n",
              "    </tr>\n",
              "  </thead>\n",
              "  <tbody>\n",
              "    <tr>\n",
              "      <th>0</th>\n",
              "      <td>-0.156190</td>\n",
              "      <td>1</td>\n",
              "      <td>0.509985</td>\n",
              "      <td>2</td>\n",
              "      <td>0.0</td>\n",
              "      <td>1.0</td>\n",
              "      <td>0.0</td>\n",
              "      <td>0.0</td>\n",
              "      <td>3</td>\n",
              "      <td>0.388889</td>\n",
              "      <td>0.709949</td>\n",
              "      <td>-1.252865</td>\n",
              "      <td>0.595213</td>\n",
              "      <td>0.436364</td>\n",
              "      <td>-0.632973</td>\n",
              "      <td>0.489013</td>\n",
              "      <td>-0.999456</td>\n",
              "      <td>-1.163844</td>\n",
              "      <td>-0.863732</td>\n",
              "    </tr>\n",
              "    <tr>\n",
              "      <th>1</th>\n",
              "      <td>0.338818</td>\n",
              "      <td>0</td>\n",
              "      <td>2.044726</td>\n",
              "      <td>4</td>\n",
              "      <td>0.0</td>\n",
              "      <td>0.0</td>\n",
              "      <td>1.0</td>\n",
              "      <td>0.0</td>\n",
              "      <td>1</td>\n",
              "      <td>1.012227</td>\n",
              "      <td>1.364031</td>\n",
              "      <td>-1.252865</td>\n",
              "      <td>-0.329538</td>\n",
              "      <td>-0.051833</td>\n",
              "      <td>-0.518152</td>\n",
              "      <td>-0.008614</td>\n",
              "      <td>-0.957606</td>\n",
              "      <td>-1.556554</td>\n",
              "      <td>-0.702295</td>\n",
              "    </tr>\n",
              "    <tr>\n",
              "      <th>2</th>\n",
              "      <td>0.586322</td>\n",
              "      <td>1</td>\n",
              "      <td>0.509985</td>\n",
              "      <td>4</td>\n",
              "      <td>0.0</td>\n",
              "      <td>1.0</td>\n",
              "      <td>0.0</td>\n",
              "      <td>0.0</td>\n",
              "      <td>4</td>\n",
              "      <td>0.014887</td>\n",
              "      <td>0.055866</td>\n",
              "      <td>-1.252865</td>\n",
              "      <td>-2.179040</td>\n",
              "      <td>-0.584393</td>\n",
              "      <td>-1.658444</td>\n",
              "      <td>-0.445935</td>\n",
              "      <td>-0.787930</td>\n",
              "      <td>-2.123802</td>\n",
              "      <td>-1.087543</td>\n",
              "    </tr>\n",
              "    <tr>\n",
              "      <th>3</th>\n",
              "      <td>-0.774949</td>\n",
              "      <td>0</td>\n",
              "      <td>1.277356</td>\n",
              "      <td>2</td>\n",
              "      <td>0.0</td>\n",
              "      <td>0.0</td>\n",
              "      <td>0.0</td>\n",
              "      <td>1.0</td>\n",
              "      <td>1</td>\n",
              "      <td>-0.234448</td>\n",
              "      <td>-0.598216</td>\n",
              "      <td>1.697912</td>\n",
              "      <td>-1.254289</td>\n",
              "      <td>-0.595951</td>\n",
              "      <td>1.663448</td>\n",
              "      <td>-0.734475</td>\n",
              "      <td>-0.991770</td>\n",
              "      <td>-2.123802</td>\n",
              "      <td>1.700918</td>\n",
              "    </tr>\n",
              "    <tr>\n",
              "      <th>4</th>\n",
              "      <td>-0.774949</td>\n",
              "      <td>1</td>\n",
              "      <td>0.509985</td>\n",
              "      <td>1</td>\n",
              "      <td>0.0</td>\n",
              "      <td>1.0</td>\n",
              "      <td>0.0</td>\n",
              "      <td>0.0</td>\n",
              "      <td>3</td>\n",
              "      <td>-1.855126</td>\n",
              "      <td>0.709949</td>\n",
              "      <td>-1.252865</td>\n",
              "      <td>-2.179040</td>\n",
              "      <td>-0.441511</td>\n",
              "      <td>-1.658444</td>\n",
              "      <td>-0.303096</td>\n",
              "      <td>-1.092835</td>\n",
              "      <td>-1.774727</td>\n",
              "      <td>-1.087543</td>\n",
              "    </tr>\n",
              "  </tbody>\n",
              "</table>\n",
              "</div>\n",
              "      <button class=\"colab-df-convert\" onclick=\"convertToInteractive('df-7803f0f8-a169-4620-a715-339686a48886')\"\n",
              "              title=\"Convert this dataframe to an interactive table.\"\n",
              "              style=\"display:none;\">\n",
              "        \n",
              "  <svg xmlns=\"http://www.w3.org/2000/svg\" height=\"24px\"viewBox=\"0 0 24 24\"\n",
              "       width=\"24px\">\n",
              "    <path d=\"M0 0h24v24H0V0z\" fill=\"none\"/>\n",
              "    <path d=\"M18.56 5.44l.94 2.06.94-2.06 2.06-.94-2.06-.94-.94-2.06-.94 2.06-2.06.94zm-11 1L8.5 8.5l.94-2.06 2.06-.94-2.06-.94L8.5 2.5l-.94 2.06-2.06.94zm10 10l.94 2.06.94-2.06 2.06-.94-2.06-.94-.94-2.06-.94 2.06-2.06.94z\"/><path d=\"M17.41 7.96l-1.37-1.37c-.4-.4-.92-.59-1.43-.59-.52 0-1.04.2-1.43.59L10.3 9.45l-7.72 7.72c-.78.78-.78 2.05 0 2.83L4 21.41c.39.39.9.59 1.41.59.51 0 1.02-.2 1.41-.59l7.78-7.78 2.81-2.81c.8-.78.8-2.07 0-2.86zM5.41 20L4 18.59l7.72-7.72 1.47 1.35L5.41 20z\"/>\n",
              "  </svg>\n",
              "      </button>\n",
              "      \n",
              "  <style>\n",
              "    .colab-df-container {\n",
              "      display:flex;\n",
              "      flex-wrap:wrap;\n",
              "      gap: 12px;\n",
              "    }\n",
              "\n",
              "    .colab-df-convert {\n",
              "      background-color: #E8F0FE;\n",
              "      border: none;\n",
              "      border-radius: 50%;\n",
              "      cursor: pointer;\n",
              "      display: none;\n",
              "      fill: #1967D2;\n",
              "      height: 32px;\n",
              "      padding: 0 0 0 0;\n",
              "      width: 32px;\n",
              "    }\n",
              "\n",
              "    .colab-df-convert:hover {\n",
              "      background-color: #E2EBFA;\n",
              "      box-shadow: 0px 1px 2px rgba(60, 64, 67, 0.3), 0px 1px 3px 1px rgba(60, 64, 67, 0.15);\n",
              "      fill: #174EA6;\n",
              "    }\n",
              "\n",
              "    [theme=dark] .colab-df-convert {\n",
              "      background-color: #3B4455;\n",
              "      fill: #D2E3FC;\n",
              "    }\n",
              "\n",
              "    [theme=dark] .colab-df-convert:hover {\n",
              "      background-color: #434B5C;\n",
              "      box-shadow: 0px 1px 3px 1px rgba(0, 0, 0, 0.15);\n",
              "      filter: drop-shadow(0px 1px 2px rgba(0, 0, 0, 0.3));\n",
              "      fill: #FFFFFF;\n",
              "    }\n",
              "  </style>\n",
              "\n",
              "      <script>\n",
              "        const buttonEl =\n",
              "          document.querySelector('#df-7803f0f8-a169-4620-a715-339686a48886 button.colab-df-convert');\n",
              "        buttonEl.style.display =\n",
              "          google.colab.kernel.accessAllowed ? 'block' : 'none';\n",
              "\n",
              "        async function convertToInteractive(key) {\n",
              "          const element = document.querySelector('#df-7803f0f8-a169-4620-a715-339686a48886');\n",
              "          const dataTable =\n",
              "            await google.colab.kernel.invokeFunction('convertToInteractive',\n",
              "                                                     [key], {});\n",
              "          if (!dataTable) return;\n",
              "\n",
              "          const docLinkHtml = 'Like what you see? Visit the ' +\n",
              "            '<a target=\"_blank\" href=https://colab.research.google.com/notebooks/data_table.ipynb>data table notebook</a>'\n",
              "            + ' to learn more about interactive tables.';\n",
              "          element.innerHTML = '';\n",
              "          dataTable['output_type'] = 'display_data';\n",
              "          await google.colab.output.renderOutput(dataTable, element);\n",
              "          const docLink = document.createElement('div');\n",
              "          docLink.innerHTML = docLinkHtml;\n",
              "          element.appendChild(docLink);\n",
              "        }\n",
              "      </script>\n",
              "    </div>\n",
              "  </div>\n",
              "  "
            ]
          },
          "metadata": {},
          "execution_count": 74
        }
      ]
    },
    {
      "cell_type": "code",
      "source": [
        "target = dataset['Card_Category']"
      ],
      "metadata": {
        "id": "-GSu_CkOIOZS"
      },
      "execution_count": null,
      "outputs": []
    },
    {
      "cell_type": "markdown",
      "source": [
        "Now we are doing the train/test split"
      ],
      "metadata": {
        "id": "DSyN7RPRMMcl"
      }
    },
    {
      "cell_type": "code",
      "source": [
        "from sklearn.model_selection import train_test_split\n",
        "\n",
        "x_train, x_test, y_train, y_test = train_test_split(features, target, test_size = 0.20, stratify = target)"
      ],
      "metadata": {
        "id": "FeRYgx7WiPxS"
      },
      "execution_count": null,
      "outputs": []
    },
    {
      "cell_type": "markdown",
      "source": [
        "Once we had the train/test split we need to find the best K to set the number of neighbors for the KNN estimator. I will test 30 values of K. "
      ],
      "metadata": {
        "id": "uDn1hjKMA4m5"
      }
    },
    {
      "cell_type": "code",
      "source": [
        "from sklearn.neighbors import KNeighborsClassifier\n",
        "from sklearn.model_selection import cross_val_score\n",
        "\n",
        "final_score = []\n",
        "best_score = 0\n",
        "best_k = 0\n",
        "\n",
        "for k in range(1,31):\n",
        "  knn = KNeighborsClassifier(n_neighbors = k)\n",
        "  scores = cross_val_score(knn, x_train, y_train)\n",
        "\n",
        "  mScore = np.mean(scores)\n",
        "  final_score.append(mScore)\n",
        "\n",
        "  print('K:', k)\n",
        "  print('Score:', mScore)\n",
        "\n",
        "  if mScore > best_score:\n",
        "    best_score = mScore\n",
        "    best_k = k\n",
        "\n",
        "  print('Best score: ', best_score)\n",
        "  print('Best K: ', best_k)"
      ],
      "metadata": {
        "id": "gbuDI16OM4oz",
        "colab": {
          "base_uri": "https://localhost:8080/"
        },
        "outputId": "b6594883-5eb2-4fe2-9602-90727cad49b8"
      },
      "execution_count": null,
      "outputs": [
        {
          "output_type": "stream",
          "name": "stdout",
          "text": [
            "K Atual: 1\n",
            "Score: 0.923235294117647\n",
            "Melhor score:  0.923235294117647\n",
            "Melhor K:  1\n",
            "K Atual: 2\n",
            "Score: 0.9347058823529413\n",
            "Melhor score:  0.9347058823529413\n",
            "Melhor K:  2\n",
            "K Atual: 3\n",
            "Score: 0.9338235294117647\n",
            "Melhor score:  0.9347058823529413\n",
            "Melhor K:  2\n",
            "K Atual: 4\n",
            "Score: 0.9352941176470587\n",
            "Melhor score:  0.9352941176470587\n",
            "Melhor K:  4\n",
            "K Atual: 5\n",
            "Score: 0.9330882352941178\n",
            "Melhor score:  0.9352941176470587\n",
            "Melhor K:  4\n",
            "K Atual: 6\n",
            "Score: 0.9344117647058823\n",
            "Melhor score:  0.9352941176470587\n",
            "Melhor K:  4\n",
            "K Atual: 7\n",
            "Score: 0.9354411764705883\n",
            "Melhor score:  0.9354411764705883\n",
            "Melhor K:  7\n",
            "K Atual: 8\n",
            "Score: 0.9336764705882352\n",
            "Melhor score:  0.9354411764705883\n",
            "Melhor K:  7\n",
            "K Atual: 9\n",
            "Score: 0.9344117647058823\n",
            "Melhor score:  0.9354411764705883\n",
            "Melhor K:  7\n",
            "K Atual: 10\n",
            "Score: 0.933235294117647\n",
            "Melhor score:  0.9354411764705883\n",
            "Melhor K:  7\n",
            "K Atual: 11\n",
            "Score: 0.9335294117647059\n",
            "Melhor score:  0.9354411764705883\n",
            "Melhor K:  7\n",
            "K Atual: 12\n",
            "Score: 0.9335294117647059\n",
            "Melhor score:  0.9354411764705883\n",
            "Melhor K:  7\n",
            "K Atual: 13\n",
            "Score: 0.9336764705882354\n",
            "Melhor score:  0.9354411764705883\n",
            "Melhor K:  7\n",
            "K Atual: 14\n",
            "Score: 0.9348529411764706\n",
            "Melhor score:  0.9354411764705883\n",
            "Melhor K:  7\n",
            "K Atual: 15\n",
            "Score: 0.9348529411764707\n",
            "Melhor score:  0.9354411764705883\n",
            "Melhor K:  7\n",
            "K Atual: 16\n",
            "Score: 0.9352941176470588\n",
            "Melhor score:  0.9354411764705883\n",
            "Melhor K:  7\n",
            "K Atual: 17\n",
            "Score: 0.9352941176470588\n",
            "Melhor score:  0.9354411764705883\n",
            "Melhor K:  7\n",
            "K Atual: 18\n",
            "Score: 0.9349999999999999\n",
            "Melhor score:  0.9354411764705883\n",
            "Melhor K:  7\n",
            "K Atual: 19\n",
            "Score: 0.9341176470588236\n",
            "Melhor score:  0.9354411764705883\n",
            "Melhor K:  7\n",
            "K Atual: 20\n",
            "Score: 0.9347058823529413\n",
            "Melhor score:  0.9354411764705883\n",
            "Melhor K:  7\n",
            "K Atual: 21\n",
            "Score: 0.9347058823529413\n",
            "Melhor score:  0.9354411764705883\n",
            "Melhor K:  7\n",
            "K Atual: 22\n",
            "Score: 0.934264705882353\n",
            "Melhor score:  0.9354411764705883\n",
            "Melhor K:  7\n",
            "K Atual: 23\n",
            "Score: 0.933235294117647\n",
            "Melhor score:  0.9354411764705883\n",
            "Melhor K:  7\n",
            "K Atual: 24\n",
            "Score: 0.9335294117647059\n",
            "Melhor score:  0.9354411764705883\n",
            "Melhor K:  7\n",
            "K Atual: 25\n",
            "Score: 0.9341176470588236\n",
            "Melhor score:  0.9354411764705883\n",
            "Melhor K:  7\n",
            "K Atual: 26\n",
            "Score: 0.9335294117647059\n",
            "Melhor score:  0.9354411764705883\n",
            "Melhor K:  7\n",
            "K Atual: 27\n",
            "Score: 0.9336764705882352\n",
            "Melhor score:  0.9354411764705883\n",
            "Melhor K:  7\n",
            "K Atual: 28\n",
            "Score: 0.9336764705882352\n",
            "Melhor score:  0.9354411764705883\n",
            "Melhor K:  7\n",
            "K Atual: 29\n",
            "Score: 0.934264705882353\n",
            "Melhor score:  0.9354411764705883\n",
            "Melhor K:  7\n",
            "K Atual: 30\n",
            "Score: 0.9339705882352941\n",
            "Melhor score:  0.9354411764705883\n",
            "Melhor K:  7\n"
          ]
        }
      ]
    },
    {
      "cell_type": "code",
      "source": [
        "sns.scatterplot(range(1,31), final_score)"
      ],
      "metadata": {
        "colab": {
          "base_uri": "https://localhost:8080/",
          "height": 341
        },
        "id": "xOIQZEBC8rhN",
        "outputId": "6a87aece-9e4e-473d-85a2-0e6741cc4c0f"
      },
      "execution_count": null,
      "outputs": [
        {
          "output_type": "stream",
          "name": "stderr",
          "text": [
            "/usr/local/lib/python3.8/dist-packages/seaborn/_decorators.py:36: FutureWarning: Pass the following variables as keyword args: x, y. From version 0.12, the only valid positional argument will be `data`, and passing other arguments without an explicit keyword will result in an error or misinterpretation.\n",
            "  warnings.warn(\n"
          ]
        },
        {
          "output_type": "execute_result",
          "data": {
            "text/plain": [
              "<matplotlib.axes._subplots.AxesSubplot at 0x7f4832ba7490>"
            ]
          },
          "metadata": {},
          "execution_count": 81
        },
        {
          "output_type": "display_data",
          "data": {
            "text/plain": [
              "<Figure size 432x288 with 1 Axes>"
            ],
            "image/png": "[encoded data removed]"
          },
          "metadata": {
            "needs_background": "light"
          }
        }
      ]
    },
    {
      "cell_type": "markdown",
      "source": [
        "As we can see the best K is 7. So we will fit our model to 7-Nearest Neighors"
      ],
      "metadata": {
        "id": "YeFtrGqZBHaO"
      }
    },
    {
      "cell_type": "code",
      "source": [
        "knn = KNeighborsClassifier(n_neighbors = 7)\n",
        "\n",
        "knn.fit(x_train, y_train)\n",
        "\n",
        "pred = knn.predict(x_test)"
      ],
      "metadata": {
        "colab": {
          "base_uri": "https://localhost:8080/"
        },
        "id": "Xe3JqJ7q9LPO",
        "outputId": "442867c7-f905-49db-bda3-547243bf1ad3"
      },
      "execution_count": null,
      "outputs": [
        {
          "output_type": "execute_result",
          "data": {
            "text/plain": [
              "KNeighborsClassifier(n_neighbors=7)"
            ]
          },
          "metadata": {},
          "execution_count": 82
        }
      ]
    },
    {
      "cell_type": "markdown",
      "source": [
        "# Accuracy\n",
        "\n",
        "Now I will use the accuracy_score to se how accurate our model is. "
      ],
      "metadata": {
        "id": "jDz6NPwCBdvF"
      }
    },
    {
      "cell_type": "code",
      "source": [
        "from sklearn.metrics import accuracy_score"
      ],
      "metadata": {
        "id": "GWMHSQJL-L_W"
      },
      "execution_count": null,
      "outputs": []
    },
    {
      "cell_type": "code",
      "source": [
        "acc = accuracy_score(y_test, pred)\n",
        "print(f'The accuracy of the model is: {round(acc,2)*100}%')"
      ],
      "metadata": {
        "colab": {
          "base_uri": "https://localhost:8080/"
        },
        "id": "-Ng6lzxe-mI4",
        "outputId": "7672e4e7-667f-4073-e502-d80f698e8b63"
      },
      "execution_count": null,
      "outputs": [
        {
          "output_type": "stream",
          "name": "stdout",
          "text": [
            "The accuracy of the model is: 94.0%\n"
          ]
        }
      ]
    },
    {
      "cell_type": "markdown",
      "source": [
        "We got a hight accuracy with the KNN classifier, as we intended to do! "
      ],
      "metadata": {
        "id": "YWZRpS7FBrDA"
      }
    },
    {
      "cell_type": "markdown",
      "source": [
        "# Overviewing\n",
        "\n",
        "Now I want to see how the model did classified our test group and how the group was actually classified."
      ],
      "metadata": {
        "id": "awATWL5pD95H"
      }
    },
    {
      "cell_type": "code",
      "source": [
        "test_pred = pd.DataFrame(pred) # model predicted data\n",
        "test_y_real = pd.DataFrame(y_test) #real data\n",
        "\n",
        "test_pred.rename(columns = {0: 'Card_Category'}, inplace = True)\n",
        "test_y_real.rename(columns = {0: 'Card_Category'}, inplace = True)"
      ],
      "metadata": {
        "id": "a11AX0ilDCcB"
      },
      "execution_count": 120,
      "outputs": []
    },
    {
      "cell_type": "markdown",
      "source": [
        "I will set back the name of the categorys, so we can se it more clearly"
      ],
      "metadata": {
        "id": "EHNAPc2KJDG7"
      }
    },
    {
      "cell_type": "code",
      "source": [
        "card_category_map = {\n",
        "    1: 'Blue',\n",
        "    2: 'Silver',\n",
        "    3: 'Gold',\n",
        "    4: 'Platinum' \n",
        "}\n",
        "\n",
        "test_pred['Card_Category'] = test_pred['Card_Category'].map(card_category_map)\n",
        "test_y_real['Card_Category'] = test_y_real['Card_Category'].map(card_category_map)"
      ],
      "metadata": {
        "id": "is64LWI1DMK6"
      },
      "execution_count": 122,
      "outputs": []
    },
    {
      "cell_type": "code",
      "source": [
        "sns.histplot(data = test_pred, x = 'Card_Category', hue = 'Card_Category')\n",
        "sns.histplot(data = test_y_real, x = 'Card_Category', hue = 'Card_Category')"
      ],
      "metadata": {
        "colab": {
          "base_uri": "https://localhost:8080/",
          "height": 297
        },
        "id": "0ezjpXw_IVzA",
        "outputId": "fe352f56-a4c6-4aa6-b9be-e2aa4a971446"
      },
      "execution_count": 125,
      "outputs": [
        {
          "output_type": "execute_result",
          "data": {
            "text/plain": [
              "<matplotlib.axes._subplots.AxesSubplot at 0x7f47ed9e5730>"
            ]
          },
          "metadata": {},
          "execution_count": 125
        },
        {
          "output_type": "display_data",
          "data": {
            "text/plain": [
              "<Figure size 432x288 with 1 Axes>"
            ],
            "image/png": "[encoded data removed]"
          },
          "metadata": {
            "needs_background": "light"
          }
        }
      ]
    },
    {
      "cell_type": "markdown",
      "source": [
        "So, we can compare how the model set the clients into the cateogries and how they should be categorized."
      ],
      "metadata": {
        "id": "f3BAAIbIJLdV"
      }
    },
    {
      "cell_type": "markdown",
      "source": [
        "# Thank you! "
      ],
      "metadata": {
        "id": "lqICC4v1B5ye"
      }
    }
  ]
}